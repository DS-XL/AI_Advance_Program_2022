{
 "cells": [
  {
   "cell_type": "markdown",
   "id": "46564f05-6d82-4363-bc2e-9b2e2bb2d4cf",
   "metadata": {},
   "source": [
    "# 🦾 Prototyping models for Meet Fresh recommender - Product recommendations\n",
    "The Meet Fresh product design includes both ingredient-level and product-level recommendations. Ingredient-level recommendation models are outlined separately. Here we build a POC for recommending product items by content-based filtering that utilizes customer-ingredient rating matrix and product-ingredient feature matrix."
   ]
  },
  {
   "cell_type": "code",
   "execution_count": null,
   "id": "fd7cd0e0-da31-4f47-af69-fae040f4d35c",
   "metadata": {},
   "outputs": [
    {
     "name": "stderr",
     "output_type": "stream",
     "text": [
      "2023-07-03 20:06:36.752203: I tensorflow/core/platform/cpu_feature_guard.cc:193] This TensorFlow binary is optimized with oneAPI Deep Neural Network Library (oneDNN) to use the following CPU instructions in performance-critical operations:  AVX2 FMA\n",
      "To enable them in other operations, rebuild TensorFlow with the appropriate compiler flags.\n",
      "2023-07-03 20:06:37.023031: E tensorflow/stream_executor/cuda/cuda_blas.cc:2981] Unable to register cuBLAS factory: Attempting to register factory for plugin cuBLAS when one has already been registered\n",
      "2023-07-03 20:06:40.860015: W tensorflow/stream_executor/platform/default/dso_loader.cc:64] Could not load dynamic library 'libnvinfer.so.7'; dlerror: libnvinfer.so.7: cannot open shared object file: No such file or directory; LD_LIBRARY_PATH: /usr/local/cuda/lib64:/usr/local/cuda/lib:/usr/local/lib/x86_64-linux-gnu:/usr/local/nvidia/lib:/usr/local/nvidia/lib64:/usr/local/nvidia/lib:/usr/local/nvidia/lib64\n",
      "2023-07-03 20:06:40.860284: W tensorflow/stream_executor/platform/default/dso_loader.cc:64] Could not load dynamic library 'libnvinfer_plugin.so.7'; dlerror: libnvinfer_plugin.so.7: cannot open shared object file: No such file or directory; LD_LIBRARY_PATH: /usr/local/cuda/lib64:/usr/local/cuda/lib:/usr/local/lib/x86_64-linux-gnu:/usr/local/nvidia/lib:/usr/local/nvidia/lib64:/usr/local/nvidia/lib:/usr/local/nvidia/lib64\n",
      "2023-07-03 20:06:40.860303: W tensorflow/compiler/tf2tensorrt/utils/py_utils.cc:38] TF-TRT Warning: Cannot dlopen some TensorRT libraries. If you would like to use Nvidia GPU with TensorRT, please make sure the missing libraries mentioned above are installed properly.\n",
      "[nltk_data] Downloading package stopwords to\n",
      "[nltk_data]     /home/jupyter/nltk_data...\n",
      "[nltk_data]   Package stopwords is already up-to-date!\n",
      "[nltk_data] Downloading package punkt to /home/jupyter/nltk_data...\n",
      "[nltk_data]   Package punkt is already up-to-date!\n"
     ]
    }
   ],
   "source": [
    "import pandas as pd\n",
    "import re\n",
    "import string\n",
    "from nltk.tokenize import word_tokenize\n",
    "from nltk.corpus import stopwords\n",
    "import numpy as np\n",
    "import matplotlib.pyplot as plt\n",
    "import tensorflow as tf\n",
    "from tensorflow.keras.models import Sequential\n",
    "from tensorflow.keras.models import Model\n",
    "from tensorflow.keras.layers import Dense\n",
    "\n",
    "from scipy import sparse\n",
    "from sklearn.decomposition import PCA\n",
    "\n",
    "import nltk\n",
    "nltk.download('stopwords')\n",
    "nltk.download('punkt')\n",
    "\n",
    "%matplotlib inline"
   ]
  },
  {
   "cell_type": "markdown",
   "id": "650330e6-0e2b-41b6-b87b-96db71e6d031",
   "metadata": {},
   "source": [
    "#### Step 1: Establish assumptions about ingredient ratings\n",
    "For product-level recommendations, we could simply use ingredient components to construct a feature space. Therefore, we still need to utilize customer-ingredient rating data, but modified and updated after customers have completed final selection of ingredients (ingredient-level recommendations are provided first based on initial ingredient ratings, and customers could select additional ingredients recommended to them to proceed to product recommendations).\n",
    "\n",
    "In reality, we need to run product-level recommendation processes using the updated customer-ingredient data, and since we do not require customers to provide ratings for ingredients recommended to them, we need to modify the customer-ingredient interaction matrix by only using 1/0 to indicate whether an ingredient is selected up until when customer proceeds to product recommendation stage.\n"
   ]
  },
  {
   "cell_type": "code",
   "execution_count": null,
   "id": "512b9cbe-e6c0-45b0-beab-e258a12665ee",
   "metadata": {},
   "outputs": [
    {
     "data": {
      "application/vnd.jupyter.widget-view+json": {
       "model_id": "8b302979e37e4dea8763a5407b989826",
       "version_major": 2,
       "version_minor": 0
      },
      "text/plain": [
       "Query is running:   0%|          |"
      ]
     },
     "metadata": {},
     "output_type": "display_data"
    },
    {
     "data": {
      "application/vnd.jupyter.widget-view+json": {
       "model_id": "b34fb95ed76d4e31bd034156a606613b",
       "version_major": 2,
       "version_minor": 0
      },
      "text/plain": [
       "Downloading:   0%|          |"
      ]
     },
     "metadata": {},
     "output_type": "display_data"
    }
   ],
   "source": [
    "%%bigquery ratings_orig_df\n",
    "SELECT * FROM `dsxl-ai-advanced-program.meetfresh.ft_customer_ingredient_ratings`"
   ]
  },
  {
   "cell_type": "code",
   "execution_count": null,
   "id": "b53456d7-d33b-4e7e-b67a-cf9628ff649b",
   "metadata": {},
   "outputs": [
    {
     "name": "stdout",
     "output_type": "stream",
     "text": [
      "<class 'pandas.core.frame.DataFrame'>\n",
      "RangeIndex: 500029 entries, 0 to 500028\n",
      "Data columns (total 4 columns):\n",
      " #   Column            Non-Null Count   Dtype  \n",
      "---  ------            --------------   -----  \n",
      " 0   customer_id       500029 non-null  int64  \n",
      " 1   ingredient_id     500029 non-null  object \n",
      " 2   ingredient_name   500029 non-null  object \n",
      " 3   meetfresh_rating  500029 non-null  float64\n",
      "dtypes: float64(1), int64(1), object(2)\n",
      "memory usage: 15.3+ MB\n"
     ]
    }
   ],
   "source": [
    "ratings_orig_df['customer_id'] = ratings_orig_df['customer_id'].astype(int)\n",
    "ratings_orig_df['meetfresh_rating'] = ratings_orig_df['meetfresh_rating'].astype(float)\n",
    "ratings_orig_df.info()"
   ]
  },
  {
   "cell_type": "code",
   "execution_count": null,
   "id": "0a4ce9e5-22e3-4a38-ba08-31728c57bab4",
   "metadata": {},
   "outputs": [
    {
     "name": "stderr",
     "output_type": "stream",
     "text": [
      "2023-07-03 20:06:54.257754: W tensorflow/stream_executor/platform/default/dso_loader.cc:64] Could not load dynamic library 'libcuda.so.1'; dlerror: libcuda.so.1: cannot open shared object file: No such file or directory; LD_LIBRARY_PATH: /usr/local/cuda/lib64:/usr/local/cuda/lib:/usr/local/lib/x86_64-linux-gnu:/usr/local/nvidia/lib:/usr/local/nvidia/lib64:/usr/local/nvidia/lib:/usr/local/nvidia/lib64\n",
      "2023-07-03 20:06:54.257817: W tensorflow/stream_executor/cuda/cuda_driver.cc:263] failed call to cuInit: UNKNOWN ERROR (303)\n",
      "2023-07-03 20:06:54.257856: I tensorflow/stream_executor/cuda/cuda_diagnostics.cc:156] kernel driver does not appear to be running on this host (c430169df936): /proc/driver/nvidia/version does not exist\n",
      "2023-07-03 20:06:54.258343: I tensorflow/core/platform/cpu_feature_guard.cc:193] This TensorFlow binary is optimized with oneAPI Deep Neural Network Library (oneDNN) to use the following CPU instructions in performance-critical operations:  AVX2 FMA\n",
      "To enable them in other operations, rebuild TensorFlow with the appropriate compiler flags.\n"
     ]
    },
    {
     "data": {
      "text/plain": [
       "<tf.Tensor: shape=(155594, 22), dtype=float64, numpy=\n",
       "array([[0., 0., 0., ..., 0., 0., 0.],\n",
       "       [0., 0., 0., ..., 0., 0., 0.],\n",
       "       [0., 0., 0., ..., 0., 0., 0.],\n",
       "       ...,\n",
       "       [0., 0., 0., ..., 0., 0., 0.],\n",
       "       [0., 0., 0., ..., 1., 0., 0.],\n",
       "       [0., 0., 0., ..., 1., 1., 0.]])>"
      ]
     },
     "execution_count": 5,
     "metadata": {},
     "output_type": "execute_result"
    }
   ],
   "source": [
    "# for prototype purpose, we only need to modify the original ratings data by turning ratings into 1/0\n",
    "# in reality, real-time data streaming pipeline needs to be set up to capture final ingredient selections made by customers\n",
    "df = ratings_orig_df[['customer_id','ingredient_name','meetfresh_rating']]\n",
    "customer_ingredients_df = df.pivot_table(values='meetfresh_rating', index=['customer_id'],\n",
    "                                         columns='ingredient_name', aggfunc='mean', fill_value=0)\n",
    "\n",
    "customer_ingredients = tf.constant(customer_ingredients_df, dtype = tf.float64)\n",
    "\n",
    "customer_ingredients = tf.where(tf.not_equal(customer_ingredients, 0), tf.ones_like(customer_ingredients), customer_ingredients)\n",
    "customer_ingredients"
   ]
  },
  {
   "cell_type": "code",
   "execution_count": null,
   "id": "f4dc7be1-d32c-4ae6-866e-f606766d5dde",
   "metadata": {},
   "outputs": [
    {
     "data": {
      "application/vnd.jupyter.widget-view+json": {
       "model_id": "dbd8c911ba0044ea8e52f67d4ad015d8",
       "version_major": 2,
       "version_minor": 0
      },
      "text/plain": [
       "Query is running:   0%|          |"
      ]
     },
     "metadata": {},
     "output_type": "display_data"
    },
    {
     "data": {
      "application/vnd.jupyter.widget-view+json": {
       "model_id": "0cbf8535b89d48e2b19f500cec714d51",
       "version_major": 2,
       "version_minor": 0
      },
      "text/plain": [
       "Downloading:   0%|          |"
      ]
     },
     "metadata": {},
     "output_type": "display_data"
    }
   ],
   "source": [
    "%%bigquery product_df\n",
    "SELECT * FROM `dsxl-ai-advanced-program.meetfresh.dim_product`"
   ]
  },
  {
   "cell_type": "code",
   "execution_count": null,
   "id": "b9b9d32c-a860-4686-88ef-0c4cb4908fe5",
   "metadata": {},
   "outputs": [
    {
     "name": "stderr",
     "output_type": "stream",
     "text": [
      "/opt/conda/lib/python3.7/site-packages/ipykernel_launcher.py:3: SettingWithCopyWarning: \n",
      "A value is trying to be set on a copy of a slice from a DataFrame.\n",
      "Try using .loc[row_indexer,col_indexer] = value instead\n",
      "\n",
      "See the caveats in the documentation: https://pandas.pydata.org/pandas-docs/stable/user_guide/indexing.html#returning-a-view-versus-a-copy\n",
      "  This is separate from the ipykernel package so we can avoid doing imports until\n"
     ]
    },
    {
     "data": {
      "text/html": [
       "<div>\n",
       "<style scoped>\n",
       "    .dataframe tbody tr th:only-of-type {\n",
       "        vertical-align: middle;\n",
       "    }\n",
       "\n",
       "    .dataframe tbody tr th {\n",
       "        vertical-align: top;\n",
       "    }\n",
       "\n",
       "    .dataframe thead th {\n",
       "        text-align: right;\n",
       "    }\n",
       "</style>\n",
       "<table border=\"1\" class=\"dataframe\">\n",
       "  <thead>\n",
       "    <tr style=\"text-align: right;\">\n",
       "      <th>ingredients</th>\n",
       "      <th>Almond Flakes</th>\n",
       "      <th>Almond Pudding</th>\n",
       "      <th>Almond Soup</th>\n",
       "      <th>Black Sugar Boba</th>\n",
       "      <th>Boba</th>\n",
       "      <th>Caramel Pudding</th>\n",
       "      <th>Chocolate Chip</th>\n",
       "      <th>Chocolate Chips</th>\n",
       "      <th>Chocolate Egg Waffle</th>\n",
       "      <th>Chocolate Syrup</th>\n",
       "      <th>...</th>\n",
       "      <th>Rice Balls</th>\n",
       "      <th>Sago</th>\n",
       "      <th>Sesame Rice Balls</th>\n",
       "      <th>Shaved Ice</th>\n",
       "      <th>Strawberry</th>\n",
       "      <th>Strawberry Syrup</th>\n",
       "      <th>Taro</th>\n",
       "      <th>Taro Balls</th>\n",
       "      <th>Taro Paste</th>\n",
       "      <th>Tofu Pudding</th>\n",
       "    </tr>\n",
       "    <tr>\n",
       "      <th>product_name</th>\n",
       "      <th></th>\n",
       "      <th></th>\n",
       "      <th></th>\n",
       "      <th></th>\n",
       "      <th></th>\n",
       "      <th></th>\n",
       "      <th></th>\n",
       "      <th></th>\n",
       "      <th></th>\n",
       "      <th></th>\n",
       "      <th></th>\n",
       "      <th></th>\n",
       "      <th></th>\n",
       "      <th></th>\n",
       "      <th></th>\n",
       "      <th></th>\n",
       "      <th></th>\n",
       "      <th></th>\n",
       "      <th></th>\n",
       "      <th></th>\n",
       "      <th></th>\n",
       "    </tr>\n",
       "  </thead>\n",
       "  <tbody>\n",
       "    <tr>\n",
       "      <th>Black Sugar Boba Milky Shaved Ice</th>\n",
       "      <td>0</td>\n",
       "      <td>0</td>\n",
       "      <td>0</td>\n",
       "      <td>1</td>\n",
       "      <td>0</td>\n",
       "      <td>1</td>\n",
       "      <td>0</td>\n",
       "      <td>0</td>\n",
       "      <td>0</td>\n",
       "      <td>0</td>\n",
       "      <td>...</td>\n",
       "      <td>0</td>\n",
       "      <td>0</td>\n",
       "      <td>0</td>\n",
       "      <td>0</td>\n",
       "      <td>0</td>\n",
       "      <td>0</td>\n",
       "      <td>0</td>\n",
       "      <td>0</td>\n",
       "      <td>0</td>\n",
       "      <td>0</td>\n",
       "    </tr>\n",
       "    <tr>\n",
       "      <th>Boba &amp; Caramel Pudding</th>\n",
       "      <td>0</td>\n",
       "      <td>0</td>\n",
       "      <td>0</td>\n",
       "      <td>0</td>\n",
       "      <td>1</td>\n",
       "      <td>1</td>\n",
       "      <td>0</td>\n",
       "      <td>0</td>\n",
       "      <td>0</td>\n",
       "      <td>0</td>\n",
       "      <td>...</td>\n",
       "      <td>0</td>\n",
       "      <td>0</td>\n",
       "      <td>0</td>\n",
       "      <td>0</td>\n",
       "      <td>0</td>\n",
       "      <td>0</td>\n",
       "      <td>0</td>\n",
       "      <td>0</td>\n",
       "      <td>0</td>\n",
       "      <td>0</td>\n",
       "    </tr>\n",
       "    <tr>\n",
       "      <th>Boba Tofu Pudding</th>\n",
       "      <td>0</td>\n",
       "      <td>0</td>\n",
       "      <td>0</td>\n",
       "      <td>0</td>\n",
       "      <td>1</td>\n",
       "      <td>0</td>\n",
       "      <td>0</td>\n",
       "      <td>0</td>\n",
       "      <td>0</td>\n",
       "      <td>0</td>\n",
       "      <td>...</td>\n",
       "      <td>0</td>\n",
       "      <td>0</td>\n",
       "      <td>0</td>\n",
       "      <td>0</td>\n",
       "      <td>0</td>\n",
       "      <td>0</td>\n",
       "      <td>0</td>\n",
       "      <td>0</td>\n",
       "      <td>0</td>\n",
       "      <td>1</td>\n",
       "    </tr>\n",
       "    <tr>\n",
       "      <th>Chocolate Chip Egg Waffle</th>\n",
       "      <td>0</td>\n",
       "      <td>0</td>\n",
       "      <td>0</td>\n",
       "      <td>0</td>\n",
       "      <td>0</td>\n",
       "      <td>0</td>\n",
       "      <td>1</td>\n",
       "      <td>0</td>\n",
       "      <td>0</td>\n",
       "      <td>0</td>\n",
       "      <td>...</td>\n",
       "      <td>0</td>\n",
       "      <td>0</td>\n",
       "      <td>0</td>\n",
       "      <td>0</td>\n",
       "      <td>0</td>\n",
       "      <td>0</td>\n",
       "      <td>0</td>\n",
       "      <td>0</td>\n",
       "      <td>0</td>\n",
       "      <td>0</td>\n",
       "    </tr>\n",
       "    <tr>\n",
       "      <th>Chocolate Deluxe Egg Waffle</th>\n",
       "      <td>0</td>\n",
       "      <td>0</td>\n",
       "      <td>0</td>\n",
       "      <td>0</td>\n",
       "      <td>0</td>\n",
       "      <td>0</td>\n",
       "      <td>0</td>\n",
       "      <td>1</td>\n",
       "      <td>0</td>\n",
       "      <td>1</td>\n",
       "      <td>...</td>\n",
       "      <td>0</td>\n",
       "      <td>0</td>\n",
       "      <td>0</td>\n",
       "      <td>0</td>\n",
       "      <td>0</td>\n",
       "      <td>0</td>\n",
       "      <td>0</td>\n",
       "      <td>0</td>\n",
       "      <td>0</td>\n",
       "      <td>0</td>\n",
       "    </tr>\n",
       "    <tr>\n",
       "      <th>...</th>\n",
       "      <td>...</td>\n",
       "      <td>...</td>\n",
       "      <td>...</td>\n",
       "      <td>...</td>\n",
       "      <td>...</td>\n",
       "      <td>...</td>\n",
       "      <td>...</td>\n",
       "      <td>...</td>\n",
       "      <td>...</td>\n",
       "      <td>...</td>\n",
       "      <td>...</td>\n",
       "      <td>...</td>\n",
       "      <td>...</td>\n",
       "      <td>...</td>\n",
       "      <td>...</td>\n",
       "      <td>...</td>\n",
       "      <td>...</td>\n",
       "      <td>...</td>\n",
       "      <td>...</td>\n",
       "      <td>...</td>\n",
       "      <td>...</td>\n",
       "    </tr>\n",
       "    <tr>\n",
       "      <th>Strawberry Milk Shaved Ice</th>\n",
       "      <td>0</td>\n",
       "      <td>0</td>\n",
       "      <td>0</td>\n",
       "      <td>0</td>\n",
       "      <td>0</td>\n",
       "      <td>0</td>\n",
       "      <td>0</td>\n",
       "      <td>0</td>\n",
       "      <td>0</td>\n",
       "      <td>0</td>\n",
       "      <td>...</td>\n",
       "      <td>0</td>\n",
       "      <td>0</td>\n",
       "      <td>0</td>\n",
       "      <td>0</td>\n",
       "      <td>1</td>\n",
       "      <td>1</td>\n",
       "      <td>0</td>\n",
       "      <td>0</td>\n",
       "      <td>0</td>\n",
       "      <td>0</td>\n",
       "    </tr>\n",
       "    <tr>\n",
       "      <th>Taro Ball Tofu Pudding</th>\n",
       "      <td>0</td>\n",
       "      <td>0</td>\n",
       "      <td>0</td>\n",
       "      <td>0</td>\n",
       "      <td>0</td>\n",
       "      <td>0</td>\n",
       "      <td>0</td>\n",
       "      <td>0</td>\n",
       "      <td>0</td>\n",
       "      <td>0</td>\n",
       "      <td>...</td>\n",
       "      <td>0</td>\n",
       "      <td>0</td>\n",
       "      <td>0</td>\n",
       "      <td>0</td>\n",
       "      <td>0</td>\n",
       "      <td>0</td>\n",
       "      <td>0</td>\n",
       "      <td>1</td>\n",
       "      <td>0</td>\n",
       "      <td>1</td>\n",
       "    </tr>\n",
       "    <tr>\n",
       "      <th>Taro Paste Volcano Shaved Ice</th>\n",
       "      <td>0</td>\n",
       "      <td>0</td>\n",
       "      <td>0</td>\n",
       "      <td>0</td>\n",
       "      <td>1</td>\n",
       "      <td>1</td>\n",
       "      <td>0</td>\n",
       "      <td>0</td>\n",
       "      <td>0</td>\n",
       "      <td>0</td>\n",
       "      <td>...</td>\n",
       "      <td>0</td>\n",
       "      <td>0</td>\n",
       "      <td>0</td>\n",
       "      <td>0</td>\n",
       "      <td>0</td>\n",
       "      <td>0</td>\n",
       "      <td>1</td>\n",
       "      <td>0</td>\n",
       "      <td>1</td>\n",
       "      <td>0</td>\n",
       "    </tr>\n",
       "    <tr>\n",
       "      <th>Taro Tofu Pudding</th>\n",
       "      <td>0</td>\n",
       "      <td>0</td>\n",
       "      <td>0</td>\n",
       "      <td>0</td>\n",
       "      <td>0</td>\n",
       "      <td>0</td>\n",
       "      <td>0</td>\n",
       "      <td>0</td>\n",
       "      <td>0</td>\n",
       "      <td>0</td>\n",
       "      <td>...</td>\n",
       "      <td>0</td>\n",
       "      <td>0</td>\n",
       "      <td>0</td>\n",
       "      <td>0</td>\n",
       "      <td>0</td>\n",
       "      <td>0</td>\n",
       "      <td>1</td>\n",
       "      <td>0</td>\n",
       "      <td>0</td>\n",
       "      <td>1</td>\n",
       "    </tr>\n",
       "    <tr>\n",
       "      <th>Win Win Milk Tea</th>\n",
       "      <td>0</td>\n",
       "      <td>0</td>\n",
       "      <td>0</td>\n",
       "      <td>0</td>\n",
       "      <td>1</td>\n",
       "      <td>0</td>\n",
       "      <td>0</td>\n",
       "      <td>0</td>\n",
       "      <td>0</td>\n",
       "      <td>0</td>\n",
       "      <td>...</td>\n",
       "      <td>0</td>\n",
       "      <td>0</td>\n",
       "      <td>0</td>\n",
       "      <td>0</td>\n",
       "      <td>0</td>\n",
       "      <td>0</td>\n",
       "      <td>0</td>\n",
       "      <td>0</td>\n",
       "      <td>0</td>\n",
       "      <td>0</td>\n",
       "    </tr>\n",
       "  </tbody>\n",
       "</table>\n",
       "<p>65 rows × 51 columns</p>\n",
       "</div>"
      ],
      "text/plain": [
       "ingredients                        Almond Flakes  Almond Pudding  Almond Soup  \\\n",
       "product_name                                                                    \n",
       "Black Sugar Boba Milky Shaved Ice              0               0            0   \n",
       "Boba & Caramel Pudding                         0               0            0   \n",
       "Boba Tofu Pudding                              0               0            0   \n",
       "Chocolate Chip Egg Waffle                      0               0            0   \n",
       "Chocolate Deluxe Egg Waffle                    0               0            0   \n",
       "...                                          ...             ...          ...   \n",
       "Strawberry Milk Shaved Ice                     0               0            0   \n",
       "Taro Ball Tofu Pudding                         0               0            0   \n",
       "Taro Paste Volcano Shaved Ice                  0               0            0   \n",
       "Taro Tofu Pudding                              0               0            0   \n",
       "Win Win Milk Tea                               0               0            0   \n",
       "\n",
       "ingredients                        Black Sugar Boba  Boba  Caramel Pudding  \\\n",
       "product_name                                                                 \n",
       "Black Sugar Boba Milky Shaved Ice                 1     0                1   \n",
       "Boba & Caramel Pudding                            0     1                1   \n",
       "Boba Tofu Pudding                                 0     1                0   \n",
       "Chocolate Chip Egg Waffle                         0     0                0   \n",
       "Chocolate Deluxe Egg Waffle                       0     0                0   \n",
       "...                                             ...   ...              ...   \n",
       "Strawberry Milk Shaved Ice                        0     0                0   \n",
       "Taro Ball Tofu Pudding                            0     0                0   \n",
       "Taro Paste Volcano Shaved Ice                     0     1                1   \n",
       "Taro Tofu Pudding                                 0     0                0   \n",
       "Win Win Milk Tea                                  0     1                0   \n",
       "\n",
       "ingredients                        Chocolate Chip  Chocolate Chips  \\\n",
       "product_name                                                         \n",
       "Black Sugar Boba Milky Shaved Ice               0                0   \n",
       "Boba & Caramel Pudding                          0                0   \n",
       "Boba Tofu Pudding                               0                0   \n",
       "Chocolate Chip Egg Waffle                       1                0   \n",
       "Chocolate Deluxe Egg Waffle                     0                1   \n",
       "...                                           ...              ...   \n",
       "Strawberry Milk Shaved Ice                      0                0   \n",
       "Taro Ball Tofu Pudding                          0                0   \n",
       "Taro Paste Volcano Shaved Ice                   0                0   \n",
       "Taro Tofu Pudding                               0                0   \n",
       "Win Win Milk Tea                                0                0   \n",
       "\n",
       "ingredients                        Chocolate Egg Waffle  Chocolate Syrup  ...  \\\n",
       "product_name                                                              ...   \n",
       "Black Sugar Boba Milky Shaved Ice                     0                0  ...   \n",
       "Boba & Caramel Pudding                                0                0  ...   \n",
       "Boba Tofu Pudding                                     0                0  ...   \n",
       "Chocolate Chip Egg Waffle                             0                0  ...   \n",
       "Chocolate Deluxe Egg Waffle                           0                1  ...   \n",
       "...                                                 ...              ...  ...   \n",
       "Strawberry Milk Shaved Ice                            0                0  ...   \n",
       "Taro Ball Tofu Pudding                                0                0  ...   \n",
       "Taro Paste Volcano Shaved Ice                         0                0  ...   \n",
       "Taro Tofu Pudding                                     0                0  ...   \n",
       "Win Win Milk Tea                                      0                0  ...   \n",
       "\n",
       "ingredients                        Rice Balls  Sago  Sesame Rice Balls  \\\n",
       "product_name                                                             \n",
       "Black Sugar Boba Milky Shaved Ice           0     0                  0   \n",
       "Boba & Caramel Pudding                      0     0                  0   \n",
       "Boba Tofu Pudding                           0     0                  0   \n",
       "Chocolate Chip Egg Waffle                   0     0                  0   \n",
       "Chocolate Deluxe Egg Waffle                 0     0                  0   \n",
       "...                                       ...   ...                ...   \n",
       "Strawberry Milk Shaved Ice                  0     0                  0   \n",
       "Taro Ball Tofu Pudding                      0     0                  0   \n",
       "Taro Paste Volcano Shaved Ice               0     0                  0   \n",
       "Taro Tofu Pudding                           0     0                  0   \n",
       "Win Win Milk Tea                            0     0                  0   \n",
       "\n",
       "ingredients                        Shaved Ice  Strawberry  Strawberry Syrup  \\\n",
       "product_name                                                                  \n",
       "Black Sugar Boba Milky Shaved Ice           0           0                 0   \n",
       "Boba & Caramel Pudding                      0           0                 0   \n",
       "Boba Tofu Pudding                           0           0                 0   \n",
       "Chocolate Chip Egg Waffle                   0           0                 0   \n",
       "Chocolate Deluxe Egg Waffle                 0           0                 0   \n",
       "...                                       ...         ...               ...   \n",
       "Strawberry Milk Shaved Ice                  0           1                 1   \n",
       "Taro Ball Tofu Pudding                      0           0                 0   \n",
       "Taro Paste Volcano Shaved Ice               0           0                 0   \n",
       "Taro Tofu Pudding                           0           0                 0   \n",
       "Win Win Milk Tea                            0           0                 0   \n",
       "\n",
       "ingredients                        Taro  Taro Balls  Taro Paste  Tofu Pudding  \n",
       "product_name                                                                   \n",
       "Black Sugar Boba Milky Shaved Ice     0           0           0             0  \n",
       "Boba & Caramel Pudding                0           0           0             0  \n",
       "Boba Tofu Pudding                     0           0           0             1  \n",
       "Chocolate Chip Egg Waffle             0           0           0             0  \n",
       "Chocolate Deluxe Egg Waffle           0           0           0             0  \n",
       "...                                 ...         ...         ...           ...  \n",
       "Strawberry Milk Shaved Ice            0           0           0             0  \n",
       "Taro Ball Tofu Pudding                0           1           0             1  \n",
       "Taro Paste Volcano Shaved Ice         1           0           1             0  \n",
       "Taro Tofu Pudding                     1           0           0             1  \n",
       "Win Win Milk Tea                      0           0           0             0  \n",
       "\n",
       "[65 rows x 51 columns]"
      ]
     },
     "execution_count": 7,
     "metadata": {},
     "output_type": "execute_result"
    }
   ],
   "source": [
    "# pre-processing product ingredient data and clean up some value inconsistencies\n",
    "prod_df = product_df[['product_name','product_ingredient_name']]\n",
    "prod_df['ingredients'] = prod_df['product_ingredient_name'].str.split(',')\n",
    "prod_feature_df = prod_df.explode('ingredients')[['product_name','ingredients']]\n",
    "prod_feature_df['ingredients'] = prod_feature_df['ingredients'].str.strip()\n",
    "\n",
    "# clean up some value inconsistencies from primary dim_ingredient data table\n",
    "prod_feature_df.loc[prod_feature_df['ingredients'] == 'Mini Q','ingredients'] = 'Mini Q (Mini Taro Ball)'\n",
    "prod_feature_df.loc[prod_feature_df['ingredients'] == 'Coco Sago Soup','ingredients'] = 'Coco Sago'\n",
    "prod_feature_df.loc[prod_feature_df['ingredients'] == 'Grass jelly','ingredients'] = 'Grass Jelly'\n",
    "\n",
    "# after this step this dataframe only contains those with ingredients breakdown\n",
    "prod_feature_df['indicator'] = 1\n",
    "prod_feature_df = prod_feature_df.pivot_table(values = 'indicator', index=['product_name'],\n",
    "                                         columns='ingredients', fill_value=0)\n",
    "prod_feature_df"
   ]
  },
  {
   "cell_type": "code",
   "execution_count": null,
   "id": "f9d66347-e20a-4b8e-a5bd-33f2f8b7b310",
   "metadata": {},
   "outputs": [
    {
     "data": {
      "text/plain": [
       "<tf.Tensor: shape=(65, 22), dtype=float64, numpy=\n",
       "array([[0., 0., 1., ..., 0., 0., 0.],\n",
       "       [0., 0., 0., ..., 0., 0., 0.],\n",
       "       [0., 0., 0., ..., 0., 0., 1.],\n",
       "       ...,\n",
       "       [0., 0., 0., ..., 0., 1., 0.],\n",
       "       [0., 0., 0., ..., 0., 0., 1.],\n",
       "       [0., 0., 0., ..., 0., 0., 0.]])>"
      ]
     },
     "execution_count": 8,
     "metadata": {},
     "output_type": "execute_result"
    }
   ],
   "source": [
    "# create the dataframe for product ingredient feature indicators\n",
    "# we only include products with ingredient breakdown data, and include all primary ingredients identified in customer_ingredients_df\n",
    "prod_feature_df = prod_feature_df[prod_feature_df.columns[prod_feature_df.columns.isin(customer_ingredients_df.columns)]]\n",
    "product_ingredients = tf.constant(prod_feature_df, dtype = tf.float64)\n",
    "product_ingredients"
   ]
  },
  {
   "cell_type": "markdown",
   "id": "14f7b4c1-74be-4fcb-a1c4-1de7085303d7",
   "metadata": {},
   "source": [
    "#### Step 2: Determine product recommendations"
   ]
  },
  {
   "cell_type": "code",
   "execution_count": null,
   "id": "f6677327-c0f1-4a81-88e6-1dc8ce85597c",
   "metadata": {},
   "outputs": [
    {
     "name": "stdout",
     "output_type": "stream",
     "text": [
      "customer_ingredients type is: <class 'tensorflow.python.framework.ops.EagerTensor'>, with dimension (155594, 22) \n",
      " ingredient_feats type is: <class 'tensorflow.python.framework.ops.EagerTensor'>, with dimension (65, 22)\n"
     ]
    }
   ],
   "source": [
    "# make sure that the dimensions match\n",
    "print(f'customer_ingredients type is: {type(customer_ingredients)}, with dimension {customer_ingredients.shape}', '\\n',\n",
    "      f'ingredient_feats type is: {type(product_ingredients)}, with dimension {product_ingredients.shape}')"
   ]
  },
  {
   "cell_type": "code",
   "execution_count": null,
   "id": "88d66715-4108-42f2-a35f-69b1cc347609",
   "metadata": {},
   "outputs": [
    {
     "data": {
      "text/plain": [
       "<tf.Tensor: shape=(155594, 65), dtype=float64, numpy=\n",
       "array([[0.        , 0.03030303, 0.03030303, ..., 0.03030303, 0.        ,\n",
       "        0.03030303],\n",
       "       [0.        , 0.03030303, 0.03030303, ..., 0.03030303, 0.        ,\n",
       "        0.03030303],\n",
       "       [0.        , 0.03571429, 0.03571429, ..., 0.03571429, 0.        ,\n",
       "        0.03571429],\n",
       "       ...,\n",
       "       [0.        , 0.        , 0.        , ..., 0.        , 0.        ,\n",
       "        0.        ],\n",
       "       [0.        , 0.02      , 0.02      , ..., 0.02      , 0.        ,\n",
       "        0.02      ],\n",
       "       [0.01587302, 0.        , 0.        , ..., 0.04761905, 0.        ,\n",
       "        0.        ]])>"
      ]
     },
     "execution_count": 10,
     "metadata": {},
     "output_type": "execute_result"
    }
   ],
   "source": [
    "# next compute customer feature matrix using the two matrices defined above\n",
    "# for each customer feature vector, normalize it to sum to 1\n",
    "predicted_products = tf.matmul(customer_ingredients, tf.transpose(product_ingredients))\n",
    "predicted_products = predicted_products / tf.reduce_sum(predicted_products, axis=1, keepdims=True)\n",
    "predicted_products"
   ]
  },
  {
   "cell_type": "markdown",
   "id": "d498b26d-5419-4f0c-8bad-c03f33250fc7",
   "metadata": {},
   "source": [
    "Unlike previously with ingredient-level recommendations where customers provide ratings, here we do not need to mask any products since customers do not provide ratings to products during the process. All product-level results as computed could be sorted and provided to customers."
   ]
  },
  {
   "cell_type": "code",
   "execution_count": null,
   "id": "f5d96305-bed2-495a-b921-e8be5da217e6",
   "metadata": {},
   "outputs": [
    {
     "data": {
      "text/plain": [
       "<tf.Tensor: shape=(155594, 10), dtype=int32, numpy=\n",
       "array([[29, 30, 31, ..., 15, 16, 17],\n",
       "       [29, 30, 31, ..., 15, 16, 17],\n",
       "       [ 1,  2,  9, ..., 20, 21, 22],\n",
       "       ...,\n",
       "       [13, 29, 30, ...,  2,  3,  4],\n",
       "       [15, 25, 33, ..., 27, 28, 29],\n",
       "       [13, 62,  6, ..., 20, 21, 23]], dtype=int32)>"
      ]
     },
     "execution_count": 11,
     "metadata": {},
     "output_type": "execute_result"
    }
   ],
   "source": [
    "# for each customer, we grab the top num_recommendations recommended product index\n",
    "num_recommendations = 10\n",
    "top_products = tf.nn.top_k(predicted_products, num_recommendations)[1]\n",
    "top_products"
   ]
  },
  {
   "cell_type": "code",
   "execution_count": null,
   "id": "70b6aab0-8482-4ccd-98cc-376a6c36351c",
   "metadata": {},
   "outputs": [
    {
     "name": "stdout",
     "output_type": "stream",
     "text": [
      "customer_id 1: ['Icy Grass Jelly Combo A', 'Icy Grass Jelly Combo B', 'Icy Grass Jelly Combo C', 'Boba & Caramel Pudding', 'Boba Tofu Pudding', 'Cold Coco Sago Soup Signature', 'Double Taro Signature', 'Hot Almond Soup Combo A', 'Hot Almond Soup Combo B', 'Hot Almond Soup Combo C']\n",
      "customer_id 2: ['Icy Grass Jelly Combo A', 'Icy Grass Jelly Combo B', 'Icy Grass Jelly Combo C', 'Boba & Caramel Pudding', 'Boba Tofu Pudding', 'Cold Coco Sago Soup Signature', 'Double Taro Signature', 'Hot Almond Soup Combo A', 'Hot Almond Soup Combo B', 'Hot Almond Soup Combo C']\n",
      "customer_id 4: ['Boba & Caramel Pudding', 'Boba Tofu Pudding', 'Cold Coco Sago Soup Signature', 'Hot Almond Soup Combo A', 'Hot Almond Soup Combo B', 'Hot Almond Soup Combo C', 'Hot Almond Soup Signature', 'Hot Grass Jelly Soup Combo A', 'Hot Grass Jelly Soup Combo B', 'Hot Grass Jelly Soup Combo C']\n",
      "customer_id 5: ['Icy Grass Jelly Combo A', 'Icy Grass Jelly Combo B', 'Icy Grass Jelly Combo C', 'Boba & Caramel Pudding', 'Boba Tofu Pudding', 'Cold Coco Sago Soup Signature', 'Double Taro Signature', 'Hot Almond Soup Combo A', 'Hot Almond Soup Combo B', 'Hot Almond Soup Combo C']\n",
      "customer_id 6: ['Double Taro Signature', 'Icy Grass Jelly Combo A', 'Icy Grass Jelly Combo B', 'Icy Grass Jelly Combo C', 'Icy Grass Jelly Signature', 'Black Sugar Boba Milky Shaved Ice', 'Boba & Caramel Pudding', 'Boba Tofu Pudding', 'Chocolate Chip Egg Waffle', 'Chocolate Deluxe Egg Waffle']\n",
      "customer_id 7: ['Double Taro Signature', 'Icy Grass Jelly Signature', 'Hot Almond Soup Combo A', 'Hot Almond Soup Combo B', 'Hot Almond Soup Combo C', 'Hot Red Bean Soup Combo A', 'Hot Red Bean Soup Combo B', 'Hot Red Bean Soup Combo C', 'Hot Red Bean Soup Signature', 'Icy Grass Jelly Combo A']\n",
      "customer_id 8: ['Cold Coco Sago Soup Combo A', 'Cold Coco Sago Soup Combo B', 'Cold Coco Sago Soup Combo C', 'Cold Coco Sago Soup Signature', 'Hot Almond Soup Signature', 'Hot Grass Jelly Soup Combo A', 'Hot Grass Jelly Soup Combo B', 'Hot Grass Jelly Soup Combo C', 'Hot Grass Jelly Soup Signature', 'Mini Q & Melon Jelly']\n",
      "customer_id 9: ['Cold Purple Rice Soup Signature', 'Hot Purple Rice Soup Signature', 'Icy Taro Ball Signature', 'Potaro Ball Tofu Pudding', 'Q Mochi Milk Shaved Ice', 'Black Sugar Boba Milky Shaved Ice', 'Boba & Caramel Pudding', 'Boba Tofu Pudding', 'Chocolate Chip Egg Waffle', 'Chocolate Deluxe Egg Waffle']\n",
      "customer_id 10: ['Double Taro Signature', 'Hot Almond Soup Combo A', 'Hot Almond Soup Combo B', 'Hot Almond Soup Combo C', 'Hot Red Bean Soup Combo A', 'Hot Red Bean Soup Combo B', 'Hot Red Bean Soup Combo C', 'Hot Red Bean Soup Signature', 'Icy Grass Jelly Signature', 'Icy Taro Ball Combo A']\n",
      "customer_id 11: ['Double Taro Signature', 'Icy Taro Ball Signature', 'Cold Coco Sago Soup Combo A', 'Cold Coco Sago Soup Combo B', 'Cold Coco Sago Soup Combo C', 'Cold Coco Sago Soup Signature', 'Cold Purple Rice Soup Signature', 'Hot Almond Soup Combo A', 'Hot Almond Soup Combo B', 'Hot Almond Soup Combo C']\n"
     ]
    }
   ],
   "source": [
    "# to see recommended ingredient names for the first 10 customers\n",
    "customer_list = customer_ingredients_df.reset_index()['customer_id']\n",
    "\n",
    "for i in range(10):\n",
    "    product_names = [list(prod_feature_df.index)[index] for index in top_products[i]]\n",
    "    print('customer_id {}: {}'.format(customer_list[i], product_names))"
   ]
  },
  {
   "cell_type": "code",
   "execution_count": null,
   "id": "f733cfd9-eda4-412e-b95c-e9c2ad00c23e",
   "metadata": {},
   "outputs": [],
   "source": []
  },
  {
   "cell_type": "code",
   "execution_count": null,
   "id": "0aaa92a0-1f73-49aa-a785-a91253a0b818",
   "metadata": {},
   "outputs": [],
   "source": []
  },
  {
   "cell_type": "code",
   "execution_count": null,
   "id": "823ed848-8d74-4182-bb3a-16862cffc64e",
   "metadata": {},
   "outputs": [],
   "source": []
  }
 ],
 "metadata": {
  "kernelspec": {
   "display_name": "Python (Local)",
   "language": "python",
   "name": "local-base"
  },
  "language_info": {
   "codemirror_mode": {
    "name": "ipython",
    "version": 3
   },
   "file_extension": ".py",
   "mimetype": "text/x-python",
   "name": "python",
   "nbconvert_exporter": "python",
   "pygments_lexer": "ipython3",
   "version": "3.7.12"
  }
 },
 "nbformat": 4,
 "nbformat_minor": 5
}
