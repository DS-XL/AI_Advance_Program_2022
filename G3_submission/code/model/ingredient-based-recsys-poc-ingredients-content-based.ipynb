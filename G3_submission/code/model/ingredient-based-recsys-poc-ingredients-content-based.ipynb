{
 "cells": [
  {
   "cell_type": "markdown",
   "id": "b554719f-6e0e-446c-ad3d-70c32f045c12",
   "metadata": {},
   "source": [
    "# 🤖 Prototyping models for Meet Fresh recommender - Content-based Filtering using Custom Meet Fresh Embedding\n",
    "For Meet Fresh product solution POC, we prototype multiple models that could be used for providing recommendations on different levels -\n",
    "\n",
    "- Recommending ingredients based on customer ingredient ratings\n",
    "- Recommending products based on ingredient selections\n",
    "\n",
    "Here we outline a POC for recommending ingredients by content-based filtering that utilizes customer-ingredient rating matrix and custom trained Meet Fresh ingredient embedding as item features.\n",
    "\n",
    "References:\n",
    "- [Creating Word Embeddings: Coding the Word2Vec Algorithm in Python using Deep Learning](https://towardsdatascience.com/creating-word-embeddings-coding-the-word2vec-algorithm-in-python-using-deep-learning-b337d0ba17a8)\n",
    "- [Content Based Filtering by hand](https://github.com/GoogleCloudPlatform/training-data-analyst/blob/master/courses/machine_learning/deepdive2/recommendation_systems/solutions/content_based_by_hand.ipynb)"
   ]
  },
  {
   "cell_type": "markdown",
   "id": "8b602553-3847-4466-a409-cb5d11da0983",
   "metadata": {},
   "source": [
    "### Model 2: Content-Based Filtering with Custom Meet Fresh Embedding\n",
    "This content-based model uses customer-ingredient rating matrix as well as a set of custom trained meet fresh ingredient embedding as feature space, outputs predicted ratings for the ingredients that have not been rated on by the customer.\n",
    "\n",
    "Based on predicted ratings for unrated ingredients, recommendations are provided by sorting on predicted ratings.\n",
    "\n",
    "This approach helps addressing cold start problem from Collaborative Filtering prototyped previously. While there is limited ratings data from other customers, we utilize this approach in providing ingredient-level recommendations to customers. "
   ]
  },
  {
   "cell_type": "markdown",
   "id": "a35174ab-f7ed-4371-9dd3-711d1cae89bf",
   "metadata": {},
   "source": [
    "#### I - Training Custom Ingredient Embedding\n",
    "But first we need to train custom embedding using a Word2Vec (CBOW) shallow neural network on Meet Fresh ingredient text descriptions"
   ]
  },
  {
   "cell_type": "code",
   "execution_count": null,
   "id": "1623e112-e022-497f-abf3-72f7ae28859e",
   "metadata": {},
   "outputs": [
    {
     "name": "stderr",
     "output_type": "stream",
     "text": [
      "2023-07-03 12:47:47.183318: I tensorflow/core/platform/cpu_feature_guard.cc:193] This TensorFlow binary is optimized with oneAPI Deep Neural Network Library (oneDNN) to use the following CPU instructions in performance-critical operations:  AVX2 FMA\n",
      "To enable them in other operations, rebuild TensorFlow with the appropriate compiler flags.\n",
      "2023-07-03 12:47:52.455504: E tensorflow/stream_executor/cuda/cuda_blas.cc:2981] Unable to register cuBLAS factory: Attempting to register factory for plugin cuBLAS when one has already been registered\n",
      "2023-07-03 12:48:03.916780: W tensorflow/stream_executor/platform/default/dso_loader.cc:64] Could not load dynamic library 'libnvinfer.so.7'; dlerror: libnvinfer.so.7: cannot open shared object file: No such file or directory; LD_LIBRARY_PATH: /usr/local/cuda/lib64:/usr/local/cuda/lib:/usr/local/lib/x86_64-linux-gnu:/usr/local/nvidia/lib:/usr/local/nvidia/lib64:/usr/local/nvidia/lib:/usr/local/nvidia/lib64\n",
      "2023-07-03 12:48:03.917211: W tensorflow/stream_executor/platform/default/dso_loader.cc:64] Could not load dynamic library 'libnvinfer_plugin.so.7'; dlerror: libnvinfer_plugin.so.7: cannot open shared object file: No such file or directory; LD_LIBRARY_PATH: /usr/local/cuda/lib64:/usr/local/cuda/lib:/usr/local/lib/x86_64-linux-gnu:/usr/local/nvidia/lib:/usr/local/nvidia/lib64:/usr/local/nvidia/lib:/usr/local/nvidia/lib64\n",
      "2023-07-03 12:48:03.917235: W tensorflow/compiler/tf2tensorrt/utils/py_utils.cc:38] TF-TRT Warning: Cannot dlopen some TensorRT libraries. If you would like to use Nvidia GPU with TensorRT, please make sure the missing libraries mentioned above are installed properly.\n",
      "[nltk_data] Downloading package stopwords to\n",
      "[nltk_data]     /home/jupyter/nltk_data...\n",
      "[nltk_data]   Package stopwords is already up-to-date!\n",
      "[nltk_data] Downloading package punkt to /home/jupyter/nltk_data...\n",
      "[nltk_data]   Package punkt is already up-to-date!\n"
     ]
    }
   ],
   "source": [
    "import pandas as pd\n",
    "import re\n",
    "import string\n",
    "from nltk.tokenize import word_tokenize\n",
    "from nltk.corpus import stopwords\n",
    "import numpy as np\n",
    "import matplotlib.pyplot as plt\n",
    "import tensorflow as tf\n",
    "from tensorflow.keras.models import Sequential\n",
    "from tensorflow.keras.models import Model\n",
    "from tensorflow.keras.layers import Dense\n",
    "\n",
    "from scipy import sparse\n",
    "from sklearn.decomposition import PCA\n",
    "\n",
    "import nltk\n",
    "nltk.download('stopwords')\n",
    "nltk.download('punkt')\n",
    "\n",
    "%matplotlib inline"
   ]
  },
  {
   "cell_type": "code",
   "execution_count": null,
   "id": "30a76d5e-b393-4ee1-b6b6-aab7d0d6bcd2",
   "metadata": {},
   "outputs": [],
   "source": [
    "sw = stopwords.words('english')"
   ]
  },
  {
   "cell_type": "code",
   "execution_count": null,
   "id": "2412323d-a11f-4c57-968b-7b7dba00181d",
   "metadata": {},
   "outputs": [
    {
     "data": {
      "application/vnd.jupyter.widget-view+json": {
       "model_id": "25f950f3fdfb46e5b5654d6a03cd0f9c",
       "version_major": 2,
       "version_minor": 0
      },
      "text/plain": [
       "Query is running:   0%|          |"
      ]
     },
     "metadata": {},
     "output_type": "display_data"
    },
    {
     "data": {
      "application/vnd.jupyter.widget-view+json": {
       "model_id": "75ad7b51774541d890b2643af6cecba5",
       "version_major": 2,
       "version_minor": 0
      },
      "text/plain": [
       "Downloading:   0%|          |"
      ]
     },
     "metadata": {},
     "output_type": "display_data"
    }
   ],
   "source": [
    "%%bigquery ingredient_df\n",
    "SELECT * FROM `dsxl-ai-advanced-program.meetfresh.dim_ingredient`"
   ]
  },
  {
   "cell_type": "code",
   "execution_count": null,
   "id": "6b5bb641-43cb-4752-90dc-aefd3983aff1",
   "metadata": {},
   "outputs": [
    {
     "data": {
      "text/plain": [
       "['By careful selection of the finest soft and most fragrant taro following traditional techniques, the texture of each taro ball is soft, chewy, and delicate.',\n",
       " 'Miniature version of our signature Taro Balls',\n",
       " 'The texture of the finest carefully selected taro is dense and soft and has appetizing and constipation prevention effects.',\n",
       " 'Finely selected taro in sweet paste-like texture',\n",
       " 'Bouncy, chewy, and nutty black sesame rice balls',\n",
       " 'Caramel-flavored pudding with a silky smooth texture',\n",
       " 'Almond-flavored pudding with a silky smooth texture',\n",
       " 'Creamy, vanilla ice cream',\n",
       " 'Smooth and stretchy glutinous rice cake with an added chewy texture',\n",
       " 'Soft and chewy combination of both sweet potato and taro',\n",
       " 'Releases a fragrant smell through the air after cooking, it has abundant iron which promotes circulation and increased immunity.',\n",
       " 'Soft peanuts for the perfect amount of crunch in each bite',\n",
       " 'Dried herbal grass delivered directly from its place of origin, has a cooling effect and after simmering for 8 hours, it becomes soft and refreshing. Silky, refreshing, and aromatic.',\n",
       " 'Slightly sweet and chewy jelly made from winter melon tea',\n",
       " 'Sweet and chewy boba made with natural sugars',\n",
       " 'Deep caramel and molasses flavored boba',\n",
       " 'Bouncy, chewy, mochi rice balls made from soft rice',\n",
       " 'Tofu pudding made from choice non-GMO soy beans with a rich soy aroma and a surprisingly good taste to satisfy taste buds.',\n",
       " 'Selected from the finest harvest, our sweet potato is dense and soft.',\n",
       " 'Thinly shaved almond flakes for added texture and flavor',\n",
       " 'Coconut flavored mochi',\n",
       " 'Soft and bouncy sago',\n",
       " 'Chewy and spongey starch from sago palm',\n",
       " 'Made with the finest lychee essence, this delightful jelly is a true tropical delight. Each bite offers a juicy explosion of sweetness, accompanied by a satisfyingly soft texture.']"
      ]
     },
     "execution_count": 5,
     "metadata": {},
     "output_type": "execute_result"
    }
   ],
   "source": [
    "# this is our training corpus\n",
    "lines = list(ingredient_df['ingredient_long_description'])\n",
    "lines"
   ]
  },
  {
   "cell_type": "code",
   "execution_count": null,
   "id": "b92f11e8-eee6-4edd-8f9d-17616793dda4",
   "metadata": {},
   "outputs": [],
   "source": [
    "# preprocess text data\n",
    "# remove new lines\n",
    "lines = [line.rstrip('\\n') for line in lines]\n",
    "\n",
    "# make all characters lower\n",
    "lines = [line.lower() for line in lines]\n",
    "\n",
    "# remove punctuations from each line\n",
    "lines = [line.translate(str.maketrans('', '', string.punctuation)) for line in lines]\n",
    "\n",
    "# tokenize\n",
    "lines = [word_tokenize(line) for line in lines]\n",
    "\n",
    "def remove_stopwords(lines, sw = sw):\n",
    "    '''\n",
    "    The purpose of this function is to remove stopwords from a given array of \n",
    "    lines.\n",
    "    \n",
    "    params:\n",
    "        lines (Array / List) : The list of lines you want to remove the stopwords from\n",
    "        sw (Set) : The set of stopwords you want to remove\n",
    "        \n",
    "    example:\n",
    "        lines = remove_stopwords(lines = lines, sw = sw)\n",
    "    '''\n",
    "    \n",
    "    res = []\n",
    "    for line in lines:\n",
    "        original = line\n",
    "        line = [w for w in line if w not in sw]\n",
    "        line = [w for w in line if w.isalpha()]\n",
    "        if len(line) < 1:\n",
    "            line = original\n",
    "        res.append(line)\n",
    "    return res\n",
    "    \n",
    "cleaned_lines = remove_stopwords(lines = lines, sw = sw)"
   ]
  },
  {
   "cell_type": "code",
   "execution_count": null,
   "id": "c02dad1b-dcd2-4a8d-8be4-8cc98fa38686",
   "metadata": {},
   "outputs": [
    {
     "data": {
      "text/plain": [
       "[['careful',\n",
       "  'selection',\n",
       "  'finest',\n",
       "  'soft',\n",
       "  'fragrant',\n",
       "  'taro',\n",
       "  'following',\n",
       "  'traditional',\n",
       "  'techniques',\n",
       "  'texture',\n",
       "  'taro',\n",
       "  'ball',\n",
       "  'soft',\n",
       "  'chewy',\n",
       "  'delicate'],\n",
       " ['miniature', 'version', 'signature', 'taro', 'balls'],\n",
       " ['texture',\n",
       "  'finest',\n",
       "  'carefully',\n",
       "  'selected',\n",
       "  'taro',\n",
       "  'dense',\n",
       "  'soft',\n",
       "  'appetizing',\n",
       "  'constipation',\n",
       "  'prevention',\n",
       "  'effects'],\n",
       " ['finely', 'selected', 'taro', 'sweet', 'pastelike', 'texture'],\n",
       " ['bouncy', 'chewy', 'nutty', 'black', 'sesame', 'rice', 'balls'],\n",
       " ['caramelflavored', 'pudding', 'silky', 'smooth', 'texture'],\n",
       " ['almondflavored', 'pudding', 'silky', 'smooth', 'texture'],\n",
       " ['creamy', 'vanilla', 'ice', 'cream'],\n",
       " ['smooth',\n",
       "  'stretchy',\n",
       "  'glutinous',\n",
       "  'rice',\n",
       "  'cake',\n",
       "  'added',\n",
       "  'chewy',\n",
       "  'texture'],\n",
       " ['soft', 'chewy', 'combination', 'sweet', 'potato', 'taro'],\n",
       " ['releases',\n",
       "  'fragrant',\n",
       "  'smell',\n",
       "  'air',\n",
       "  'cooking',\n",
       "  'abundant',\n",
       "  'iron',\n",
       "  'promotes',\n",
       "  'circulation',\n",
       "  'increased',\n",
       "  'immunity'],\n",
       " ['soft', 'peanuts', 'perfect', 'amount', 'crunch', 'bite'],\n",
       " ['dried',\n",
       "  'herbal',\n",
       "  'grass',\n",
       "  'delivered',\n",
       "  'directly',\n",
       "  'place',\n",
       "  'origin',\n",
       "  'cooling',\n",
       "  'effect',\n",
       "  'simmering',\n",
       "  'hours',\n",
       "  'becomes',\n",
       "  'soft',\n",
       "  'refreshing',\n",
       "  'silky',\n",
       "  'refreshing',\n",
       "  'aromatic'],\n",
       " ['slightly', 'sweet', 'chewy', 'jelly', 'made', 'winter', 'melon', 'tea'],\n",
       " ['sweet', 'chewy', 'boba', 'made', 'natural', 'sugars'],\n",
       " ['deep', 'caramel', 'molasses', 'flavored', 'boba'],\n",
       " ['bouncy', 'chewy', 'mochi', 'rice', 'balls', 'made', 'soft', 'rice'],\n",
       " ['tofu',\n",
       "  'pudding',\n",
       "  'made',\n",
       "  'choice',\n",
       "  'nongmo',\n",
       "  'soy',\n",
       "  'beans',\n",
       "  'rich',\n",
       "  'soy',\n",
       "  'aroma',\n",
       "  'surprisingly',\n",
       "  'good',\n",
       "  'taste',\n",
       "  'satisfy',\n",
       "  'taste',\n",
       "  'buds'],\n",
       " ['selected', 'finest', 'harvest', 'sweet', 'potato', 'dense', 'soft'],\n",
       " ['thinly', 'shaved', 'almond', 'flakes', 'added', 'texture', 'flavor'],\n",
       " ['coconut', 'flavored', 'mochi'],\n",
       " ['soft', 'bouncy', 'sago'],\n",
       " ['chewy', 'spongey', 'starch', 'sago', 'palm'],\n",
       " ['made',\n",
       "  'finest',\n",
       "  'lychee',\n",
       "  'essence',\n",
       "  'delightful',\n",
       "  'jelly',\n",
       "  'true',\n",
       "  'tropical',\n",
       "  'delight',\n",
       "  'bite',\n",
       "  'offers',\n",
       "  'juicy',\n",
       "  'explosion',\n",
       "  'sweetness',\n",
       "  'accompanied',\n",
       "  'satisfyingly',\n",
       "  'soft',\n",
       "  'texture']]"
      ]
     },
     "execution_count": 7,
     "metadata": {},
     "output_type": "execute_result"
    }
   ],
   "source": [
    "cleaned_lines"
   ]
  },
  {
   "cell_type": "markdown",
   "id": "dc095419-dfcf-4e68-8d20-58ffa458e110",
   "metadata": {},
   "source": [
    "#### Step 2: Sliding Window of Words\n",
    "Slide a window of words across each token list. For each window extract a center word and the context words depending on a context half-size."
   ]
  },
  {
   "cell_type": "code",
   "execution_count": null,
   "id": "e95f626a-0797-4068-9d75-be6018805a64",
   "metadata": {},
   "outputs": [],
   "source": [
    "def get_windows(words, C):\n",
    "    '''\n",
    "    This function extracts pairs of context words and center word that make up the training set for CBOW model.\n",
    "    \n",
    "    params:\n",
    "        The first argument of this function is a list of words (or tokens).\n",
    "        The second argument, `C`, is the context half-size.\n",
    "        Context words are made of `C` words to the left and `C` words to the right of the center word.\n",
    "    '''\n",
    "    i = C\n",
    "    while i < len(words) - C:\n",
    "        center_word = words[i]\n",
    "        context_words = words[(i - C):i] + words[(i+1):(i+C+1)]\n",
    "        yield context_words, center_word\n",
    "        i += 1"
   ]
  },
  {
   "cell_type": "code",
   "execution_count": null,
   "id": "7724f0cb-099c-47aa-a69d-61b283090dc3",
   "metadata": {},
   "outputs": [
    {
     "name": "stdout",
     "output_type": "stream",
     "text": [
      "['careful', 'selection', 'soft', 'fragrant']\tfinest\n",
      "['selection', 'finest', 'fragrant', 'taro']\tsoft\n",
      "['finest', 'soft', 'taro', 'following']\tfragrant\n",
      "['soft', 'fragrant', 'following', 'traditional']\ttaro\n",
      "['fragrant', 'taro', 'traditional', 'techniques']\tfollowing\n",
      "['taro', 'following', 'techniques', 'texture']\ttraditional\n",
      "['following', 'traditional', 'texture', 'taro']\ttechniques\n",
      "['traditional', 'techniques', 'taro', 'ball']\ttexture\n",
      "['techniques', 'texture', 'ball', 'soft']\ttaro\n",
      "['texture', 'taro', 'soft', 'chewy']\tball\n",
      "['taro', 'ball', 'chewy', 'delicate']\tsoft\n",
      "['miniature', 'version', 'taro', 'balls']\tsignature\n",
      "['texture', 'finest', 'selected', 'taro']\tcarefully\n",
      "['finest', 'carefully', 'taro', 'dense']\tselected\n",
      "['carefully', 'selected', 'dense', 'soft']\ttaro\n",
      "['selected', 'taro', 'soft', 'appetizing']\tdense\n",
      "['taro', 'dense', 'appetizing', 'constipation']\tsoft\n",
      "['dense', 'soft', 'constipation', 'prevention']\tappetizing\n",
      "['soft', 'appetizing', 'prevention', 'effects']\tconstipation\n",
      "['finely', 'selected', 'sweet', 'pastelike']\ttaro\n",
      "['selected', 'taro', 'pastelike', 'texture']\tsweet\n",
      "['bouncy', 'chewy', 'black', 'sesame']\tnutty\n",
      "['chewy', 'nutty', 'sesame', 'rice']\tblack\n",
      "['nutty', 'black', 'rice', 'balls']\tsesame\n",
      "['caramelflavored', 'pudding', 'smooth', 'texture']\tsilky\n",
      "['almondflavored', 'pudding', 'smooth', 'texture']\tsilky\n",
      "['smooth', 'stretchy', 'rice', 'cake']\tglutinous\n",
      "['stretchy', 'glutinous', 'cake', 'added']\trice\n",
      "['glutinous', 'rice', 'added', 'chewy']\tcake\n",
      "['rice', 'cake', 'chewy', 'texture']\tadded\n",
      "['soft', 'chewy', 'sweet', 'potato']\tcombination\n",
      "['chewy', 'combination', 'potato', 'taro']\tsweet\n",
      "['releases', 'fragrant', 'air', 'cooking']\tsmell\n",
      "['fragrant', 'smell', 'cooking', 'abundant']\tair\n",
      "['smell', 'air', 'abundant', 'iron']\tcooking\n",
      "['air', 'cooking', 'iron', 'promotes']\tabundant\n",
      "['cooking', 'abundant', 'promotes', 'circulation']\tiron\n",
      "['abundant', 'iron', 'circulation', 'increased']\tpromotes\n",
      "['iron', 'promotes', 'increased', 'immunity']\tcirculation\n",
      "['soft', 'peanuts', 'amount', 'crunch']\tperfect\n",
      "['peanuts', 'perfect', 'crunch', 'bite']\tamount\n",
      "['dried', 'herbal', 'delivered', 'directly']\tgrass\n",
      "['herbal', 'grass', 'directly', 'place']\tdelivered\n",
      "['grass', 'delivered', 'place', 'origin']\tdirectly\n",
      "['delivered', 'directly', 'origin', 'cooling']\tplace\n",
      "['directly', 'place', 'cooling', 'effect']\torigin\n",
      "['place', 'origin', 'effect', 'simmering']\tcooling\n",
      "['origin', 'cooling', 'simmering', 'hours']\teffect\n",
      "['cooling', 'effect', 'hours', 'becomes']\tsimmering\n",
      "['effect', 'simmering', 'becomes', 'soft']\thours\n",
      "['simmering', 'hours', 'soft', 'refreshing']\tbecomes\n",
      "['hours', 'becomes', 'refreshing', 'silky']\tsoft\n",
      "['becomes', 'soft', 'silky', 'refreshing']\trefreshing\n",
      "['soft', 'refreshing', 'refreshing', 'aromatic']\tsilky\n",
      "['slightly', 'sweet', 'jelly', 'made']\tchewy\n",
      "['sweet', 'chewy', 'made', 'winter']\tjelly\n",
      "['chewy', 'jelly', 'winter', 'melon']\tmade\n",
      "['jelly', 'made', 'melon', 'tea']\twinter\n",
      "['sweet', 'chewy', 'made', 'natural']\tboba\n",
      "['chewy', 'boba', 'natural', 'sugars']\tmade\n",
      "['deep', 'caramel', 'flavored', 'boba']\tmolasses\n",
      "['bouncy', 'chewy', 'rice', 'balls']\tmochi\n",
      "['chewy', 'mochi', 'balls', 'made']\trice\n",
      "['mochi', 'rice', 'made', 'soft']\tballs\n",
      "['rice', 'balls', 'soft', 'rice']\tmade\n",
      "['tofu', 'pudding', 'choice', 'nongmo']\tmade\n",
      "['pudding', 'made', 'nongmo', 'soy']\tchoice\n",
      "['made', 'choice', 'soy', 'beans']\tnongmo\n",
      "['choice', 'nongmo', 'beans', 'rich']\tsoy\n",
      "['nongmo', 'soy', 'rich', 'soy']\tbeans\n",
      "['soy', 'beans', 'soy', 'aroma']\trich\n",
      "['beans', 'rich', 'aroma', 'surprisingly']\tsoy\n",
      "['rich', 'soy', 'surprisingly', 'good']\taroma\n",
      "['soy', 'aroma', 'good', 'taste']\tsurprisingly\n",
      "['aroma', 'surprisingly', 'taste', 'satisfy']\tgood\n",
      "['surprisingly', 'good', 'satisfy', 'taste']\ttaste\n",
      "['good', 'taste', 'taste', 'buds']\tsatisfy\n",
      "['selected', 'finest', 'sweet', 'potato']\tharvest\n",
      "['finest', 'harvest', 'potato', 'dense']\tsweet\n",
      "['harvest', 'sweet', 'dense', 'soft']\tpotato\n",
      "['thinly', 'shaved', 'flakes', 'added']\talmond\n",
      "['shaved', 'almond', 'added', 'texture']\tflakes\n",
      "['almond', 'flakes', 'texture', 'flavor']\tadded\n",
      "['chewy', 'spongey', 'sago', 'palm']\tstarch\n",
      "['made', 'finest', 'essence', 'delightful']\tlychee\n",
      "['finest', 'lychee', 'delightful', 'jelly']\tessence\n",
      "['lychee', 'essence', 'jelly', 'true']\tdelightful\n",
      "['essence', 'delightful', 'true', 'tropical']\tjelly\n",
      "['delightful', 'jelly', 'tropical', 'delight']\ttrue\n",
      "['jelly', 'true', 'delight', 'bite']\ttropical\n",
      "['true', 'tropical', 'bite', 'offers']\tdelight\n",
      "['tropical', 'delight', 'offers', 'juicy']\tbite\n",
      "['delight', 'bite', 'juicy', 'explosion']\toffers\n",
      "['bite', 'offers', 'explosion', 'sweetness']\tjuicy\n",
      "['offers', 'juicy', 'sweetness', 'accompanied']\texplosion\n",
      "['juicy', 'explosion', 'accompanied', 'satisfyingly']\tsweetness\n",
      "['explosion', 'sweetness', 'satisfyingly', 'soft']\taccompanied\n",
      "['sweetness', 'accompanied', 'soft', 'texture']\tsatisfyingly\n"
     ]
    }
   ],
   "source": [
    "context_list = []\n",
    "center_list = []\n",
    "for token_list in cleaned_lines:\n",
    "    for x, y in get_windows(\n",
    "                token_list,\n",
    "                2\n",
    "            ):\n",
    "        context_list.append(x)\n",
    "        center_list.append(y)\n",
    "        print(f'{x}\\t{y}') "
   ]
  },
  {
   "cell_type": "markdown",
   "id": "56e5ab6d-d9df-4036-8316-2fc36529096e",
   "metadata": {},
   "source": [
    "#### Step 3: Transform Words into Vectors for Training Set\n",
    "To create one-hot word vectors, we need to map each unique word to a unique integer (or index). Use helper function, `get_dict`, that creates a Python dictionary that maps words to integers and back."
   ]
  },
  {
   "cell_type": "code",
   "execution_count": null,
   "id": "52bf0260-1eda-4249-816a-0c088c1b6f16",
   "metadata": {},
   "outputs": [],
   "source": [
    "# define helper function\n",
    "def get_dict(line_list):\n",
    "    \"\"\"\n",
    "    Input:\n",
    "        data: list of text strings that make up of the corpus\n",
    "    Output:\n",
    "        word2Ind: returns dictionary mapping the word to its index\n",
    "        Ind2Word: returns dictionary mapping the index to its word\n",
    "    \"\"\"\n",
    "    data = [element for nested in line_list for element in nested]\n",
    "    words = sorted(list(set(data)))\n",
    "    n = len(words)\n",
    "    idx = 0\n",
    "    # return these correctly\n",
    "    word2Ind = {}\n",
    "    Ind2word = {}\n",
    "    for k in words:\n",
    "        word2Ind[k] = idx\n",
    "        Ind2word[idx] = k\n",
    "        idx += 1\n",
    "    return word2Ind, Ind2word"
   ]
  },
  {
   "cell_type": "code",
   "execution_count": null,
   "id": "e0e72a37-a095-46f7-8f48-d657ea1cb78e",
   "metadata": {},
   "outputs": [
    {
     "data": {
      "text/plain": [
       "125"
      ]
     },
     "execution_count": 11,
     "metadata": {},
     "output_type": "execute_result"
    }
   ],
   "source": [
    "word2Ind, Ind2word = get_dict(cleaned_lines)\n",
    "V = len(word2Ind)  # vocabulary size\n",
    "V"
   ]
  },
  {
   "cell_type": "code",
   "execution_count": null,
   "id": "9da58c51-739c-4eda-b3a6-d2a511d56a90",
   "metadata": {},
   "outputs": [],
   "source": [
    "# function to get one-hot vectors for words\n",
    "def word_to_one_hot_vector(word, word2Ind, V):\n",
    "    one_hot_vector = np.zeros(V)\n",
    "    one_hot_vector[word2Ind[word]] = 1\n",
    "    \n",
    "    return one_hot_vector"
   ]
  },
  {
   "cell_type": "code",
   "execution_count": null,
   "id": "dce7faf5-8580-4b50-96f9-81b487abc1ec",
   "metadata": {},
   "outputs": [
    {
     "data": {
      "text/plain": [
       "array([0., 0., 0., 0., 0., 0., 0., 0., 0., 0., 0., 0., 0., 0., 0., 0., 0.,\n",
       "       0., 0., 0., 0., 0., 0., 0., 0., 0., 0., 0., 0., 0., 0., 0., 0., 0.,\n",
       "       0., 0., 0., 0., 0., 0., 0., 0., 0., 0., 0., 0., 0., 0., 0., 0., 0.,\n",
       "       0., 0., 0., 0., 0., 0., 0., 0., 0., 0., 0., 0., 0., 0., 0., 0., 0.,\n",
       "       0., 0., 0., 0., 0., 0., 0., 0., 0., 0., 0., 0., 0., 0., 0., 0., 0.,\n",
       "       0., 0., 0., 0., 0., 0., 0., 0., 0., 0., 0., 0., 0., 0., 0., 0., 0.,\n",
       "       0., 0., 0., 0., 0., 0., 0., 0., 0., 0., 1., 0., 0., 0., 0., 0., 0.,\n",
       "       0., 0., 0., 0., 0., 0.])"
      ]
     },
     "execution_count": 13,
     "metadata": {},
     "output_type": "execute_result"
    }
   ],
   "source": [
    "word_to_one_hot_vector('taro', word2Ind, V)"
   ]
  },
  {
   "cell_type": "code",
   "execution_count": null,
   "id": "15d81b51-572e-4456-a352-6a2fbca5d5bc",
   "metadata": {},
   "outputs": [],
   "source": [
    "# create context words vectors as average of one-hot vectors of individual context words\n",
    "def context_words_to_vector(context_words, word2Ind, V):\n",
    "    context_words_vectors = [word_to_one_hot_vector(w, word2Ind, V) for w in context_words]\n",
    "    context_words_vectors = np.mean(context_words_vectors, axis=0)\n",
    "    \n",
    "    return context_words_vectors"
   ]
  },
  {
   "cell_type": "markdown",
   "id": "a0a6b2db-d933-459a-bab7-c96c40817754",
   "metadata": {},
   "source": [
    "Pack all the functions above together into one function outputting training examples for model."
   ]
  },
  {
   "cell_type": "code",
   "execution_count": null,
   "id": "e84ce819-c17f-4f45-802d-819581f5adf8",
   "metadata": {},
   "outputs": [],
   "source": [
    "def get_training_example(cleaned_lines, C, word2Ind, V):\n",
    "    \"\"\"\n",
    "    Input:\n",
    "        cleaned_lines: nested list of cleaned text token lists from text pre-processing\n",
    "        C: context half-size parameter\n",
    "        word2Ind: dictionary mapping word to its index in vocabulary\n",
    "        V: vocabulary size\n",
    "    Output:\n",
    "        context word vector\n",
    "        ceneter word vector\n",
    "    \"\"\"\n",
    "    context_list = []\n",
    "    center_list = []\n",
    "    for token_list in cleaned_lines:\n",
    "        for x, y in get_windows(\n",
    "                    token_list,\n",
    "                    C\n",
    "                ):\n",
    "            context_list.append(x)\n",
    "            center_list.append(y)\n",
    "            \n",
    "    X = []\n",
    "    y = []\n",
    "    for i in range(len(context_list)):\n",
    "        context_words = context_list[i]\n",
    "        context_vector = context_words_to_vector(context_words, word2Ind, V)\n",
    "        X.append(context_vector)\n",
    "    \n",
    "    for i in range(len(center_list)):\n",
    "        center_word = center_list[i]\n",
    "        center_vector = word_to_one_hot_vector(center_word, word2Ind, V)\n",
    "        y.append(center_vector)\n",
    "        \n",
    "    return X, y"
   ]
  },
  {
   "cell_type": "code",
   "execution_count": null,
   "id": "0f675533-4470-43ed-b5dc-069edf8df636",
   "metadata": {},
   "outputs": [],
   "source": [
    "X, y = get_training_example(cleaned_lines, 2, word2Ind, V)"
   ]
  },
  {
   "cell_type": "markdown",
   "id": "b2018820-c978-403e-91fa-60e7e38e133a",
   "metadata": {},
   "source": [
    "#### Step 4: Train CBOW Model for Embedding"
   ]
  },
  {
   "cell_type": "code",
   "execution_count": null,
   "id": "f34bf921-ec10-413d-a0ab-6c83e423c4fa",
   "metadata": {},
   "outputs": [],
   "source": [
    "X = np.array(X)\n",
    "y = np.array(y)"
   ]
  },
  {
   "cell_type": "code",
   "execution_count": null,
   "id": "b175d955-3ae1-4cc4-90f6-2fc50d7be9f8",
   "metadata": {},
   "outputs": [
    {
     "name": "stderr",
     "output_type": "stream",
     "text": [
      "2023-07-03 13:04:40.131384: W tensorflow/stream_executor/platform/default/dso_loader.cc:64] Could not load dynamic library 'libcuda.so.1'; dlerror: libcuda.so.1: cannot open shared object file: No such file or directory; LD_LIBRARY_PATH: /usr/local/cuda/lib64:/usr/local/cuda/lib:/usr/local/lib/x86_64-linux-gnu:/usr/local/nvidia/lib:/usr/local/nvidia/lib64:/usr/local/nvidia/lib:/usr/local/nvidia/lib64\n",
      "2023-07-03 13:04:40.148132: W tensorflow/stream_executor/cuda/cuda_driver.cc:263] failed call to cuInit: UNKNOWN ERROR (303)\n",
      "2023-07-03 13:04:40.148336: I tensorflow/stream_executor/cuda/cuda_diagnostics.cc:156] kernel driver does not appear to be running on this host (e26eea229bb4): /proc/driver/nvidia/version does not exist\n",
      "2023-07-03 13:04:40.158207: I tensorflow/core/platform/cpu_feature_guard.cc:193] This TensorFlow binary is optimized with oneAPI Deep Neural Network Library (oneDNN) to use the following CPU instructions in performance-critical operations:  AVX2 FMA\n",
      "To enable them in other operations, rebuild TensorFlow with the appropriate compiler flags.\n"
     ]
    }
   ],
   "source": [
    "# define embedding size N\n",
    "N = 20\n",
    "\n",
    "# define model\n",
    "cbow_model = Sequential(\n",
    "    [\n",
    "        Dense(units = N, activation = 'relu'),\n",
    "        Dense(units = y.shape[1], activation = 'linear')]\n",
    ")\n",
    "  \n",
    "cbow_model.compile(loss= tf.keras.losses.CategoricalCrossentropy(from_logits=True),\n",
    "                   optimizer = tf.keras.optimizers.Adam(0.001))"
   ]
  },
  {
   "cell_type": "code",
   "execution_count": null,
   "id": "1e060c21-9f99-43af-8258-8e64459b10a6",
   "metadata": {},
   "outputs": [
    {
     "data": {
      "text/plain": [
       "<keras.callbacks.History at 0x7f1724049cd0>"
      ]
     },
     "execution_count": 20,
     "metadata": {},
     "output_type": "execute_result"
    }
   ],
   "source": [
    "cbow_model.fit(X, y, batch_size=256, epochs=2000, verbose=0)"
   ]
  },
  {
   "cell_type": "code",
   "execution_count": null,
   "id": "09a6ec03-c519-4fc6-b6b9-edf771ea0b33",
   "metadata": {},
   "outputs": [
    {
     "data": {
      "text/plain": [
       "[<matplotlib.lines.Line2D at 0x7f1710f8ead0>]"
      ]
     },
     "execution_count": 21,
     "metadata": {},
     "output_type": "execute_result"
    },
    {
     "data": {
      "image/png": "[encoded data removed]",
      "text/plain": [
       "<Figure size 640x480 with 1 Axes>"
      ]
     },
     "metadata": {},
     "output_type": "display_data"
    }
   ],
   "source": [
    "plt.plot(cbow_model.history.epoch,cbow_model.history.history['loss'])"
   ]
  },
  {
   "cell_type": "code",
   "execution_count": null,
   "id": "c7728b03-1cf4-403b-ac9f-44d75d4c6e46",
   "metadata": {},
   "outputs": [],
   "source": [
    "# extract the weights from trained neural network model\n",
    "# these weights are the word embeddings for Meet Fresh ingredients\n",
    "# either or both w weights could be used as embedding, we use w1 from first layer\n",
    "\n",
    "w1 = cbow_model.get_weights()[0]\n",
    "\n",
    "# embedding dictionary with word as key and embedding vector as value\n",
    "embedding_dict = {}\n",
    "for word in word2Ind.keys(): \n",
    "    embedding_dict[word] = w1[word2Ind.get(word)]"
   ]
  },
  {
   "cell_type": "code",
   "execution_count": null,
   "id": "6fd4f0c4-9ea9-4f8f-98e7-fd20d68ab11d",
   "metadata": {},
   "outputs": [],
   "source": [
    "# visualize the embeddings by convering embeddings into 2D with PCA\n",
    "\n",
    "embedding_X = np.array(list(embedding_dict.values()))\n",
    "# dimentionality reduction using PCA\n",
    "pca = PCA(n_components=2)\n",
    "# running the transformations\n",
    "result = pca.fit_transform(embedding_X)\n",
    "# getting the corresponding words\n",
    "words = list(embedding_dict.keys())"
   ]
  },
  {
   "cell_type": "code",
   "execution_count": null,
   "id": "6542ba15-f60d-4628-a12e-6adbecffa9b0",
   "metadata": {},
   "outputs": [],
   "source": [
    "# creating a dataframe from the results\n",
    "df = pd.DataFrame(result, columns=list('XY'))\n",
    "# adding a columns for the corresponding words\n",
    "df['Words'] = words\n",
    "# converting the lower case text to title case\n",
    "df['Words'] = df['Words'].str.title()"
   ]
  },
  {
   "cell_type": "code",
   "execution_count": null,
   "id": "e532094f-9641-4f15-b72c-48e078947356",
   "metadata": {},
   "outputs": [
    {
     "data": {
      "application/vnd.plotly.v1+json": {
       "config": {
        "plotlyServerURL": "https://plot.ly"
       },
       "data": [
        {
         "hovertemplate": "X=%{x}<br>Y=%{y}<br>Words=%{text}<extra></extra>",
         "legendgroup": "",
         "marker": {
          "color": "#636efa",
          "symbol": "circle"
         },
         "mode": "markers+text",
         "name": "",
         "orientation": "v",
         "showlegend": false,
         "text": [
          "Abundant",
          "Accompanied",
          "Added",
          "Air",
          "Almond",
          "Almondflavored",
          "Amount",
          "Appetizing",
          "Aroma",
          "Aromatic",
          "Ball",
          "Balls",
          "Beans",
          "Becomes",
          "Bite",
          "Black",
          "Boba",
          "Bouncy",
          "Buds",
          "Cake",
          "Caramel",
          "Caramelflavored",
          "Careful",
          "Carefully",
          "Chewy",
          "Choice",
          "Circulation",
          "Coconut",
          "Combination",
          "Constipation",
          "Cooking",
          "Cooling",
          "Cream",
          "Creamy",
          "Crunch",
          "Deep",
          "Delicate",
          "Delight",
          "Delightful",
          "Delivered",
          "Dense",
          "Directly",
          "Dried",
          "Effect",
          "Effects",
          "Essence",
          "Explosion",
          "Finely",
          "Finest",
          "Flakes",
          "Flavor",
          "Flavored",
          "Following",
          "Fragrant",
          "Glutinous",
          "Good",
          "Grass",
          "Harvest",
          "Herbal",
          "Hours",
          "Ice",
          "Immunity",
          "Increased",
          "Iron",
          "Jelly",
          "Juicy",
          "Lychee",
          "Made",
          "Melon",
          "Miniature",
          "Mochi",
          "Molasses",
          "Natural",
          "Nongmo",
          "Nutty",
          "Offers",
          "Origin",
          "Palm",
          "Pastelike",
          "Peanuts",
          "Perfect",
          "Place",
          "Potato",
          "Prevention",
          "Promotes",
          "Pudding",
          "Refreshing",
          "Releases",
          "Rice",
          "Rich",
          "Sago",
          "Satisfy",
          "Satisfyingly",
          "Selected",
          "Selection",
          "Sesame",
          "Shaved",
          "Signature",
          "Silky",
          "Simmering",
          "Slightly",
          "Smell",
          "Smooth",
          "Soft",
          "Soy",
          "Spongey",
          "Starch",
          "Stretchy",
          "Sugars",
          "Surprisingly",
          "Sweet",
          "Sweetness",
          "Taro",
          "Taste",
          "Tea",
          "Techniques",
          "Texture",
          "Thinly",
          "Tofu",
          "Traditional",
          "Tropical",
          "True",
          "Vanilla",
          "Version",
          "Winter"
         ],
         "textposition": "top center",
         "type": "scatter",
         "x": [
          -0.7049403,
          2.393455,
          -0.05458792,
          -1.4497442,
          0.6681753,
          1.8640537,
          1.0284718,
          -0.30342287,
          2.173815,
          2.3668542,
          -2.2394645,
          -2.1194656,
          -0.39391917,
          1.2074616,
          0.58055043,
          -0.8311435,
          -1.0596486,
          0.45732012,
          -0.96719617,
          0.12688826,
          -0.49563864,
          1.7959136,
          -2.1971853,
          -1.2358176,
          0.5408076,
          -1.1543381,
          0.6574003,
          0.015702235,
          -1.6904068,
          1.5371275,
          -1.2884711,
          0.91647226,
          -0.12674299,
          0.07018218,
          1.0152823,
          -0.6720902,
          0.7604914,
          0.71045005,
          -0.26646212,
          0.32039964,
          -0.12161891,
          0.86156523,
          0.30171466,
          1.1215812,
          1.5354184,
          -0.9959598,
          0.35797432,
          -1.5071939,
          -2.5317187,
          -0.8140086,
          1.0290558,
          -0.8654214,
          -1.1641171,
          -0.62691206,
          0.25065273,
          1.6405101,
          -0.06654458,
          0.21289945,
          1.2917197,
          1.6494769,
          0.014843606,
          0.52783287,
          1.3146057,
          -0.40730068,
          -1.7638583,
          3.241947,
          -1.884299,
          -0.045325544,
          -1.9596082,
          -0.6751078,
          -0.91666496,
          0.0254096,
          0.019288892,
          -0.89811224,
          -0.3191717,
          0.68114555,
          -0.27724588,
          0.12858568,
          -0.648212,
          1.0998636,
          -0.21126664,
          0.21711643,
          -1.5064025,
          1.788802,
          1.376205,
          0.7650929,
          1.8709842,
          -1.4688842,
          -0.18843228,
          -0.54770875,
          -0.040119573,
          1.8485554,
          0.9104578,
          -2.769592,
          0.9504611,
          2.2014196,
          -1.2711037,
          0.16836302,
          0.37792856,
          0.8266213,
          -0.35711074,
          -1.927215,
          1.9698237,
          -0.99965113,
          0.8682688,
          -0.27998456,
          0.047466442,
          -0.17883244,
          -2.0946655,
          1.1597451,
          -0.044914376,
          0.9906784,
          -0.6005312,
          0.6646563,
          -1.6976495,
          -0.10279105,
          -0.004134408,
          -1.6840287,
          -1.6659083,
          -1.7396744,
          2.1323793,
          0.47149855,
          -0.052335154,
          -0.8015368,
          -0.14633156
         ],
         "xaxis": "x",
         "y": [
          3.4346588,
          -0.6970918,
          0.66242266,
          0.26748964,
          0.5006256,
          0.36197603,
          0.11431861,
          -0.22652462,
          2.4086485,
          0.4179567,
          0.39998275,
          -0.40545696,
          1.9190354,
          0.1987752,
          1.4282732,
          0.06929072,
          0.634492,
          -0.6037359,
          0.1104399,
          -2.304768,
          1.1141477,
          0.36511844,
          -0.52795255,
          1.833008,
          -0.8934435,
          0.42761812,
          2.773972,
          -0.20213108,
          -0.64852583,
          0.8924506,
          -0.18203369,
          0.5200135,
          0.066211894,
          -0.013971456,
          -0.06285882,
          1.3232703,
          -0.63283825,
          0.69750905,
          -1.8064102,
          -1.1034999,
          0.31250507,
          -0.6222152,
          -1.3761394,
          -1.0040948,
          -0.02289513,
          -2.6769419,
          2.2529752,
          1.4846396,
          -1.0121876,
          -0.8979949,
          -1.1231095,
          1.1573803,
          0.301366,
          0.5376226,
          -1.1728969,
          -0.00062557653,
          -0.47639146,
          -0.27729934,
          -1.3724604,
          0.183295,
          0.007156606,
          -0.106247514,
          0.34456748,
          0.6836356,
          -0.4673978,
          0.4767617,
          -0.55636406,
          -3.385393,
          -0.19656177,
          1.2069758,
          -2.3715286,
          0.21693397,
          -0.7666193,
          0.023013081,
          0.30826458,
          1.0770099,
          -0.33400956,
          1.8846588,
          -1.280023,
          -0.01747926,
          0.48331693,
          -1.6660575,
          -1.6221392,
          0.26197743,
          0.5364506,
          -0.75470144,
          -0.08251777,
          -0.93095446,
          -1.1575952,
          1.1157718,
          1.4927685,
          0.5072563,
          2.0622756,
          0.22779351,
          -1.1939007,
          0.21483001,
          1.9166979,
          -0.039164416,
          -1.1874278,
          0.0023165997,
          -0.5240755,
          2.504458,
          -0.51753724,
          0.14693305,
          0.5774864,
          1.515588,
          0.20900196,
          -1.9019606,
          0.14627087,
          -0.37921852,
          -2.1846113,
          0.10611456,
          -0.16396604,
          0.26778913,
          -1.8379253,
          -0.16371208,
          0.30513823,
          1.4478346,
          -0.51755303,
          0.8553854,
          -1.7889167,
          -1.5458685,
          -0.07637025,
          1.2648687,
          -1.5045017
         ],
         "yaxis": "y"
        }
       ],
       "layout": {
        "autosize": true,
        "legend": {
         "tracegroupgap": 0
        },
        "margin": {
         "t": 60
        },
        "template": {
         "data": {
          "bar": [
           {
            "error_x": {
             "color": "#2a3f5f"
            },
            "error_y": {
             "color": "#2a3f5f"
            },
            "marker": {
             "line": {
              "color": "#E5ECF6",
              "width": 0.5
             },
             "pattern": {
              "fillmode": "overlay",
              "size": 10,
              "solidity": 0.2
             }
            },
            "type": "bar"
           }
          ],
          "barpolar": [
           {
            "marker": {
             "line": {
              "color": "#E5ECF6",
              "width": 0.5
             },
             "pattern": {
              "fillmode": "overlay",
              "size": 10,
              "solidity": 0.2
             }
            },
            "type": "barpolar"
           }
          ],
          "carpet": [
           {
            "aaxis": {
             "endlinecolor": "#2a3f5f",
             "gridcolor": "white",
             "linecolor": "white",
             "minorgridcolor": "white",
             "startlinecolor": "#2a3f5f"
            },
            "baxis": {
             "endlinecolor": "#2a3f5f",
             "gridcolor": "white",
             "linecolor": "white",
             "minorgridcolor": "white",
             "startlinecolor": "#2a3f5f"
            },
            "type": "carpet"
           }
          ],
          "choropleth": [
           {
            "colorbar": {
             "outlinewidth": 0,
             "ticks": ""
            },
            "type": "choropleth"
           }
          ],
          "contour": [
           {
            "colorbar": {
             "outlinewidth": 0,
             "ticks": ""
            },
            "colorscale": [
             [
              0,
              "#0d0887"
             ],
             [
              0.1111111111111111,
              "#46039f"
             ],
             [
              0.2222222222222222,
              "#7201a8"
             ],
             [
              0.3333333333333333,
              "#9c179e"
             ],
             [
              0.4444444444444444,
              "#bd3786"
             ],
             [
              0.5555555555555556,
              "#d8576b"
             ],
             [
              0.6666666666666666,
              "#ed7953"
             ],
             [
              0.7777777777777778,
              "#fb9f3a"
             ],
             [
              0.8888888888888888,
              "#fdca26"
             ],
             [
              1,
              "#f0f921"
             ]
            ],
            "type": "contour"
           }
          ],
          "contourcarpet": [
           {
            "colorbar": {
             "outlinewidth": 0,
             "ticks": ""
            },
            "type": "contourcarpet"
           }
          ],
          "heatmap": [
           {
            "colorbar": {
             "outlinewidth": 0,
             "ticks": ""
            },
            "colorscale": [
             [
              0,
              "#0d0887"
             ],
             [
              0.1111111111111111,
              "#46039f"
             ],
             [
              0.2222222222222222,
              "#7201a8"
             ],
             [
              0.3333333333333333,
              "#9c179e"
             ],
             [
              0.4444444444444444,
              "#bd3786"
             ],
             [
              0.5555555555555556,
              "#d8576b"
             ],
             [
              0.6666666666666666,
              "#ed7953"
             ],
             [
              0.7777777777777778,
              "#fb9f3a"
             ],
             [
              0.8888888888888888,
              "#fdca26"
             ],
             [
              1,
              "#f0f921"
             ]
            ],
            "type": "heatmap"
           }
          ],
          "heatmapgl": [
           {
            "colorbar": {
             "outlinewidth": 0,
             "ticks": ""
            },
            "colorscale": [
             [
              0,
              "#0d0887"
             ],
             [
              0.1111111111111111,
              "#46039f"
             ],
             [
              0.2222222222222222,
              "#7201a8"
             ],
             [
              0.3333333333333333,
              "#9c179e"
             ],
             [
              0.4444444444444444,
              "#bd3786"
             ],
             [
              0.5555555555555556,
              "#d8576b"
             ],
             [
              0.6666666666666666,
              "#ed7953"
             ],
             [
              0.7777777777777778,
              "#fb9f3a"
             ],
             [
              0.8888888888888888,
              "#fdca26"
             ],
             [
              1,
              "#f0f921"
             ]
            ],
            "type": "heatmapgl"
           }
          ],
          "histogram": [
           {
            "marker": {
             "pattern": {
              "fillmode": "overlay",
              "size": 10,
              "solidity": 0.2
             }
            },
            "type": "histogram"
           }
          ],
          "histogram2d": [
           {
            "colorbar": {
             "outlinewidth": 0,
             "ticks": ""
            },
            "colorscale": [
             [
              0,
              "#0d0887"
             ],
             [
              0.1111111111111111,
              "#46039f"
             ],
             [
              0.2222222222222222,
              "#7201a8"
             ],
             [
              0.3333333333333333,
              "#9c179e"
             ],
             [
              0.4444444444444444,
              "#bd3786"
             ],
             [
              0.5555555555555556,
              "#d8576b"
             ],
             [
              0.6666666666666666,
              "#ed7953"
             ],
             [
              0.7777777777777778,
              "#fb9f3a"
             ],
             [
              0.8888888888888888,
              "#fdca26"
             ],
             [
              1,
              "#f0f921"
             ]
            ],
            "type": "histogram2d"
           }
          ],
          "histogram2dcontour": [
           {
            "colorbar": {
             "outlinewidth": 0,
             "ticks": ""
            },
            "colorscale": [
             [
              0,
              "#0d0887"
             ],
             [
              0.1111111111111111,
              "#46039f"
             ],
             [
              0.2222222222222222,
              "#7201a8"
             ],
             [
              0.3333333333333333,
              "#9c179e"
             ],
             [
              0.4444444444444444,
              "#bd3786"
             ],
             [
              0.5555555555555556,
              "#d8576b"
             ],
             [
              0.6666666666666666,
              "#ed7953"
             ],
             [
              0.7777777777777778,
              "#fb9f3a"
             ],
             [
              0.8888888888888888,
              "#fdca26"
             ],
             [
              1,
              "#f0f921"
             ]
            ],
            "type": "histogram2dcontour"
           }
          ],
          "mesh3d": [
           {
            "colorbar": {
             "outlinewidth": 0,
             "ticks": ""
            },
            "type": "mesh3d"
           }
          ],
          "parcoords": [
           {
            "line": {
             "colorbar": {
              "outlinewidth": 0,
              "ticks": ""
             }
            },
            "type": "parcoords"
           }
          ],
          "pie": [
           {
            "automargin": true,
            "type": "pie"
           }
          ],
          "scatter": [
           {
            "fillpattern": {
             "fillmode": "overlay",
             "size": 10,
             "solidity": 0.2
            },
            "type": "scatter"
           }
          ],
          "scatter3d": [
           {
            "line": {
             "colorbar": {
              "outlinewidth": 0,
              "ticks": ""
             }
            },
            "marker": {
             "colorbar": {
              "outlinewidth": 0,
              "ticks": ""
             }
            },
            "type": "scatter3d"
           }
          ],
          "scattercarpet": [
           {
            "marker": {
             "colorbar": {
              "outlinewidth": 0,
              "ticks": ""
             }
            },
            "type": "scattercarpet"
           }
          ],
          "scattergeo": [
           {
            "marker": {
             "colorbar": {
              "outlinewidth": 0,
              "ticks": ""
             }
            },
            "type": "scattergeo"
           }
          ],
          "scattergl": [
           {
            "marker": {
             "colorbar": {
              "outlinewidth": 0,
              "ticks": ""
             }
            },
            "type": "scattergl"
           }
          ],
          "scattermapbox": [
           {
            "marker": {
             "colorbar": {
              "outlinewidth": 0,
              "ticks": ""
             }
            },
            "type": "scattermapbox"
           }
          ],
          "scatterpolar": [
           {
            "marker": {
             "colorbar": {
              "outlinewidth": 0,
              "ticks": ""
             }
            },
            "type": "scatterpolar"
           }
          ],
          "scatterpolargl": [
           {
            "marker": {
             "colorbar": {
              "outlinewidth": 0,
              "ticks": ""
             }
            },
            "type": "scatterpolargl"
           }
          ],
          "scatterternary": [
           {
            "marker": {
             "colorbar": {
              "outlinewidth": 0,
              "ticks": ""
             }
            },
            "type": "scatterternary"
           }
          ],
          "surface": [
           {
            "colorbar": {
             "outlinewidth": 0,
             "ticks": ""
            },
            "colorscale": [
             [
              0,
              "#0d0887"
             ],
             [
              0.1111111111111111,
              "#46039f"
             ],
             [
              0.2222222222222222,
              "#7201a8"
             ],
             [
              0.3333333333333333,
              "#9c179e"
             ],
             [
              0.4444444444444444,
              "#bd3786"
             ],
             [
              0.5555555555555556,
              "#d8576b"
             ],
             [
              0.6666666666666666,
              "#ed7953"
             ],
             [
              0.7777777777777778,
              "#fb9f3a"
             ],
             [
              0.8888888888888888,
              "#fdca26"
             ],
             [
              1,
              "#f0f921"
             ]
            ],
            "type": "surface"
           }
          ],
          "table": [
           {
            "cells": {
             "fill": {
              "color": "#EBF0F8"
             },
             "line": {
              "color": "white"
             }
            },
            "header": {
             "fill": {
              "color": "#C8D4E3"
             },
             "line": {
              "color": "white"
             }
            },
            "type": "table"
           }
          ]
         },
         "layout": {
          "annotationdefaults": {
           "arrowcolor": "#2a3f5f",
           "arrowhead": 0,
           "arrowwidth": 1
          },
          "autotypenumbers": "strict",
          "coloraxis": {
           "colorbar": {
            "outlinewidth": 0,
            "ticks": ""
           }
          },
          "colorscale": {
           "diverging": [
            [
             0,
             "#8e0152"
            ],
            [
             0.1,
             "#c51b7d"
            ],
            [
             0.2,
             "#de77ae"
            ],
            [
             0.3,
             "#f1b6da"
            ],
            [
             0.4,
             "#fde0ef"
            ],
            [
             0.5,
             "#f7f7f7"
            ],
            [
             0.6,
             "#e6f5d0"
            ],
            [
             0.7,
             "#b8e186"
            ],
            [
             0.8,
             "#7fbc41"
            ],
            [
             0.9,
             "#4d9221"
            ],
            [
             1,
             "#276419"
            ]
           ],
           "sequential": [
            [
             0,
             "#0d0887"
            ],
            [
             0.1111111111111111,
             "#46039f"
            ],
            [
             0.2222222222222222,
             "#7201a8"
            ],
            [
             0.3333333333333333,
             "#9c179e"
            ],
            [
             0.4444444444444444,
             "#bd3786"
            ],
            [
             0.5555555555555556,
             "#d8576b"
            ],
            [
             0.6666666666666666,
             "#ed7953"
            ],
            [
             0.7777777777777778,
             "#fb9f3a"
            ],
            [
             0.8888888888888888,
             "#fdca26"
            ],
            [
             1,
             "#f0f921"
            ]
           ],
           "sequentialminus": [
            [
             0,
             "#0d0887"
            ],
            [
             0.1111111111111111,
             "#46039f"
            ],
            [
             0.2222222222222222,
             "#7201a8"
            ],
            [
             0.3333333333333333,
             "#9c179e"
            ],
            [
             0.4444444444444444,
             "#bd3786"
            ],
            [
             0.5555555555555556,
             "#d8576b"
            ],
            [
             0.6666666666666666,
             "#ed7953"
            ],
            [
             0.7777777777777778,
             "#fb9f3a"
            ],
            [
             0.8888888888888888,
             "#fdca26"
            ],
            [
             1,
             "#f0f921"
            ]
           ]
          },
          "colorway": [
           "#636efa",
           "#EF553B",
           "#00cc96",
           "#ab63fa",
           "#FFA15A",
           "#19d3f3",
           "#FF6692",
           "#B6E880",
           "#FF97FF",
           "#FECB52"
          ],
          "font": {
           "color": "#2a3f5f"
          },
          "geo": {
           "bgcolor": "white",
           "lakecolor": "white",
           "landcolor": "#E5ECF6",
           "showlakes": true,
           "showland": true,
           "subunitcolor": "white"
          },
          "hoverlabel": {
           "align": "left"
          },
          "hovermode": "closest",
          "mapbox": {
           "style": "light"
          },
          "paper_bgcolor": "white",
          "plot_bgcolor": "#E5ECF6",
          "polar": {
           "angularaxis": {
            "gridcolor": "white",
            "linecolor": "white",
            "ticks": ""
           },
           "bgcolor": "#E5ECF6",
           "radialaxis": {
            "gridcolor": "white",
            "linecolor": "white",
            "ticks": ""
           }
          },
          "scene": {
           "xaxis": {
            "backgroundcolor": "#E5ECF6",
            "gridcolor": "white",
            "gridwidth": 2,
            "linecolor": "white",
            "showbackground": true,
            "ticks": "",
            "zerolinecolor": "white"
           },
           "yaxis": {
            "backgroundcolor": "#E5ECF6",
            "gridcolor": "white",
            "gridwidth": 2,
            "linecolor": "white",
            "showbackground": true,
            "ticks": "",
            "zerolinecolor": "white"
           },
           "zaxis": {
            "backgroundcolor": "#E5ECF6",
            "gridcolor": "white",
            "gridwidth": 2,
            "linecolor": "white",
            "showbackground": true,
            "ticks": "",
            "zerolinecolor": "white"
           }
          },
          "shapedefaults": {
           "line": {
            "color": "#2a3f5f"
           }
          },
          "ternary": {
           "aaxis": {
            "gridcolor": "white",
            "linecolor": "white",
            "ticks": ""
           },
           "baxis": {
            "gridcolor": "white",
            "linecolor": "white",
            "ticks": ""
           },
           "bgcolor": "#E5ECF6",
           "caxis": {
            "gridcolor": "white",
            "linecolor": "white",
            "ticks": ""
           }
          },
          "title": {
           "x": 0.05
          },
          "xaxis": {
           "automargin": true,
           "gridcolor": "white",
           "linecolor": "white",
           "ticks": "",
           "title": {
            "standoff": 15
           },
           "zerolinecolor": "white",
           "zerolinewidth": 2
          },
          "yaxis": {
           "automargin": true,
           "gridcolor": "white",
           "linecolor": "white",
           "ticks": "",
           "title": {
            "standoff": 15
           },
           "zerolinecolor": "white",
           "zerolinewidth": 2
          }
         }
        },
        "title": {
         "text": "Meet Fresh Ingredient Words Embedding Chart"
        },
        "xaxis": {
         "anchor": "y",
         "autorange": true,
         "domain": [
          0,
          1
         ],
         "range": [
          -1.9716324432020906,
          0.6539777720101956
         ],
         "title": {
          "text": "X"
         },
         "type": "log"
        },
        "yaxis": {
         "anchor": "x",
         "autorange": true,
         "domain": [
          0,
          1
         ],
         "range": [
          -3.8127363992327368,
          3.8620021992327365
         ],
         "title": {
          "text": "Y"
         },
         "type": "linear"
        }
       }
      },
      "image/png": "[encoded data removed]",
      "text/html": [
       "<div>                            <div id=\"ac79cf29-26ec-4023-9afd-da21609de9ba\" class=\"plotly-graph-div\" style=\"height:800px; width:100%;\"></div>            <script type=\"text/javascript\">                require([\"plotly\"], function(Plotly) {                    window.PLOTLYENV=window.PLOTLYENV || {};                                    if (document.getElementById(\"ac79cf29-26ec-4023-9afd-da21609de9ba\")) {                    Plotly.newPlot(                        \"ac79cf29-26ec-4023-9afd-da21609de9ba\",                        [{\"hovertemplate\":\"X=%{x}<br>Y=%{y}<br>Words=%{text}<extra></extra>\",\"legendgroup\":\"\",\"marker\":{\"color\":\"#636efa\",\"symbol\":\"circle\"},\"mode\":\"markers+text\",\"name\":\"\",\"orientation\":\"v\",\"showlegend\":false,\"text\":[\"Abundant\",\"Accompanied\",\"Added\",\"Air\",\"Almond\",\"Almondflavored\",\"Amount\",\"Appetizing\",\"Aroma\",\"Aromatic\",\"Ball\",\"Balls\",\"Beans\",\"Becomes\",\"Bite\",\"Black\",\"Boba\",\"Bouncy\",\"Buds\",\"Cake\",\"Caramel\",\"Caramelflavored\",\"Careful\",\"Carefully\",\"Chewy\",\"Choice\",\"Circulation\",\"Coconut\",\"Combination\",\"Constipation\",\"Cooking\",\"Cooling\",\"Cream\",\"Creamy\",\"Crunch\",\"Deep\",\"Delicate\",\"Delight\",\"Delightful\",\"Delivered\",\"Dense\",\"Directly\",\"Dried\",\"Effect\",\"Effects\",\"Essence\",\"Explosion\",\"Finely\",\"Finest\",\"Flakes\",\"Flavor\",\"Flavored\",\"Following\",\"Fragrant\",\"Glutinous\",\"Good\",\"Grass\",\"Harvest\",\"Herbal\",\"Hours\",\"Ice\",\"Immunity\",\"Increased\",\"Iron\",\"Jelly\",\"Juicy\",\"Lychee\",\"Made\",\"Melon\",\"Miniature\",\"Mochi\",\"Molasses\",\"Natural\",\"Nongmo\",\"Nutty\",\"Offers\",\"Origin\",\"Palm\",\"Pastelike\",\"Peanuts\",\"Perfect\",\"Place\",\"Potato\",\"Prevention\",\"Promotes\",\"Pudding\",\"Refreshing\",\"Releases\",\"Rice\",\"Rich\",\"Sago\",\"Satisfy\",\"Satisfyingly\",\"Selected\",\"Selection\",\"Sesame\",\"Shaved\",\"Signature\",\"Silky\",\"Simmering\",\"Slightly\",\"Smell\",\"Smooth\",\"Soft\",\"Soy\",\"Spongey\",\"Starch\",\"Stretchy\",\"Sugars\",\"Surprisingly\",\"Sweet\",\"Sweetness\",\"Taro\",\"Taste\",\"Tea\",\"Techniques\",\"Texture\",\"Thinly\",\"Tofu\",\"Traditional\",\"Tropical\",\"True\",\"Vanilla\",\"Version\",\"Winter\"],\"x\":[-0.7049403,2.393455,-0.05458792,-1.4497442,0.6681753,1.8640537,1.0284718,-0.30342287,2.173815,2.3668542,-2.2394645,-2.1194656,-0.39391917,1.2074616,0.58055043,-0.8311435,-1.0596486,0.45732012,-0.96719617,0.12688826,-0.49563864,1.7959136,-2.1971853,-1.2358176,0.5408076,-1.1543381,0.6574003,0.015702235,-1.6904068,1.5371275,-1.2884711,0.91647226,-0.12674299,0.07018218,1.0152823,-0.6720902,0.7604914,0.71045005,-0.26646212,0.32039964,-0.12161891,0.86156523,0.30171466,1.1215812,1.5354184,-0.9959598,0.35797432,-1.5071939,-2.5317187,-0.8140086,1.0290558,-0.8654214,-1.1641171,-0.62691206,0.25065273,1.6405101,-0.06654458,0.21289945,1.2917197,1.6494769,0.014843606,0.52783287,1.3146057,-0.40730068,-1.7638583,3.241947,-1.884299,-0.045325544,-1.9596082,-0.6751078,-0.91666496,0.0254096,0.019288892,-0.89811224,-0.3191717,0.68114555,-0.27724588,0.12858568,-0.648212,1.0998636,-0.21126664,0.21711643,-1.5064025,1.788802,1.376205,0.7650929,1.8709842,-1.4688842,-0.18843228,-0.54770875,-0.040119573,1.8485554,0.9104578,-2.769592,0.9504611,2.2014196,-1.2711037,0.16836302,0.37792856,0.8266213,-0.35711074,-1.927215,1.9698237,-0.99965113,0.8682688,-0.27998456,0.047466442,-0.17883244,-2.0946655,1.1597451,-0.044914376,0.9906784,-0.6005312,0.6646563,-1.6976495,-0.10279105,-0.004134408,-1.6840287,-1.6659083,-1.7396744,2.1323793,0.47149855,-0.052335154,-0.8015368,-0.14633156],\"xaxis\":\"x\",\"y\":[3.4346588,-0.6970918,0.66242266,0.26748964,0.5006256,0.36197603,0.11431861,-0.22652462,2.4086485,0.4179567,0.39998275,-0.40545696,1.9190354,0.1987752,1.4282732,0.06929072,0.634492,-0.6037359,0.1104399,-2.304768,1.1141477,0.36511844,-0.52795255,1.833008,-0.8934435,0.42761812,2.773972,-0.20213108,-0.64852583,0.8924506,-0.18203369,0.5200135,0.066211894,-0.013971456,-0.06285882,1.3232703,-0.63283825,0.69750905,-1.8064102,-1.1034999,0.31250507,-0.6222152,-1.3761394,-1.0040948,-0.02289513,-2.6769419,2.2529752,1.4846396,-1.0121876,-0.8979949,-1.1231095,1.1573803,0.301366,0.5376226,-1.1728969,-0.00062557653,-0.47639146,-0.27729934,-1.3724604,0.183295,0.007156606,-0.106247514,0.34456748,0.6836356,-0.4673978,0.4767617,-0.55636406,-3.385393,-0.19656177,1.2069758,-2.3715286,0.21693397,-0.7666193,0.023013081,0.30826458,1.0770099,-0.33400956,1.8846588,-1.280023,-0.01747926,0.48331693,-1.6660575,-1.6221392,0.26197743,0.5364506,-0.75470144,-0.08251777,-0.93095446,-1.1575952,1.1157718,1.4927685,0.5072563,2.0622756,0.22779351,-1.1939007,0.21483001,1.9166979,-0.039164416,-1.1874278,0.0023165997,-0.5240755,2.504458,-0.51753724,0.14693305,0.5774864,1.515588,0.20900196,-1.9019606,0.14627087,-0.37921852,-2.1846113,0.10611456,-0.16396604,0.26778913,-1.8379253,-0.16371208,0.30513823,1.4478346,-0.51755303,0.8553854,-1.7889167,-1.5458685,-0.07637025,1.2648687,-1.5045017],\"yaxis\":\"y\",\"type\":\"scatter\",\"textposition\":\"top center\"}],                        {\"template\":{\"data\":{\"histogram2dcontour\":[{\"type\":\"histogram2dcontour\",\"colorbar\":{\"outlinewidth\":0,\"ticks\":\"\"},\"colorscale\":[[0.0,\"#0d0887\"],[0.1111111111111111,\"#46039f\"],[0.2222222222222222,\"#7201a8\"],[0.3333333333333333,\"#9c179e\"],[0.4444444444444444,\"#bd3786\"],[0.5555555555555556,\"#d8576b\"],[0.6666666666666666,\"#ed7953\"],[0.7777777777777778,\"#fb9f3a\"],[0.8888888888888888,\"#fdca26\"],[1.0,\"#f0f921\"]]}],\"choropleth\":[{\"type\":\"choropleth\",\"colorbar\":{\"outlinewidth\":0,\"ticks\":\"\"}}],\"histogram2d\":[{\"type\":\"histogram2d\",\"colorbar\":{\"outlinewidth\":0,\"ticks\":\"\"},\"colorscale\":[[0.0,\"#0d0887\"],[0.1111111111111111,\"#46039f\"],[0.2222222222222222,\"#7201a8\"],[0.3333333333333333,\"#9c179e\"],[0.4444444444444444,\"#bd3786\"],[0.5555555555555556,\"#d8576b\"],[0.6666666666666666,\"#ed7953\"],[0.7777777777777778,\"#fb9f3a\"],[0.8888888888888888,\"#fdca26\"],[1.0,\"#f0f921\"]]}],\"heatmap\":[{\"type\":\"heatmap\",\"colorbar\":{\"outlinewidth\":0,\"ticks\":\"\"},\"colorscale\":[[0.0,\"#0d0887\"],[0.1111111111111111,\"#46039f\"],[0.2222222222222222,\"#7201a8\"],[0.3333333333333333,\"#9c179e\"],[0.4444444444444444,\"#bd3786\"],[0.5555555555555556,\"#d8576b\"],[0.6666666666666666,\"#ed7953\"],[0.7777777777777778,\"#fb9f3a\"],[0.8888888888888888,\"#fdca26\"],[1.0,\"#f0f921\"]]}],\"heatmapgl\":[{\"type\":\"heatmapgl\",\"colorbar\":{\"outlinewidth\":0,\"ticks\":\"\"},\"colorscale\":[[0.0,\"#0d0887\"],[0.1111111111111111,\"#46039f\"],[0.2222222222222222,\"#7201a8\"],[0.3333333333333333,\"#9c179e\"],[0.4444444444444444,\"#bd3786\"],[0.5555555555555556,\"#d8576b\"],[0.6666666666666666,\"#ed7953\"],[0.7777777777777778,\"#fb9f3a\"],[0.8888888888888888,\"#fdca26\"],[1.0,\"#f0f921\"]]}],\"contourcarpet\":[{\"type\":\"contourcarpet\",\"colorbar\":{\"outlinewidth\":0,\"ticks\":\"\"}}],\"contour\":[{\"type\":\"contour\",\"colorbar\":{\"outlinewidth\":0,\"ticks\":\"\"},\"colorscale\":[[0.0,\"#0d0887\"],[0.1111111111111111,\"#46039f\"],[0.2222222222222222,\"#7201a8\"],[0.3333333333333333,\"#9c179e\"],[0.4444444444444444,\"#bd3786\"],[0.5555555555555556,\"#d8576b\"],[0.6666666666666666,\"#ed7953\"],[0.7777777777777778,\"#fb9f3a\"],[0.8888888888888888,\"#fdca26\"],[1.0,\"#f0f921\"]]}],\"surface\":[{\"type\":\"surface\",\"colorbar\":{\"outlinewidth\":0,\"ticks\":\"\"},\"colorscale\":[[0.0,\"#0d0887\"],[0.1111111111111111,\"#46039f\"],[0.2222222222222222,\"#7201a8\"],[0.3333333333333333,\"#9c179e\"],[0.4444444444444444,\"#bd3786\"],[0.5555555555555556,\"#d8576b\"],[0.6666666666666666,\"#ed7953\"],[0.7777777777777778,\"#fb9f3a\"],[0.8888888888888888,\"#fdca26\"],[1.0,\"#f0f921\"]]}],\"mesh3d\":[{\"type\":\"mesh3d\",\"colorbar\":{\"outlinewidth\":0,\"ticks\":\"\"}}],\"scatter\":[{\"fillpattern\":{\"fillmode\":\"overlay\",\"size\":10,\"solidity\":0.2},\"type\":\"scatter\"}],\"parcoords\":[{\"type\":\"parcoords\",\"line\":{\"colorbar\":{\"outlinewidth\":0,\"ticks\":\"\"}}}],\"scatterpolargl\":[{\"type\":\"scatterpolargl\",\"marker\":{\"colorbar\":{\"outlinewidth\":0,\"ticks\":\"\"}}}],\"bar\":[{\"error_x\":{\"color\":\"#2a3f5f\"},\"error_y\":{\"color\":\"#2a3f5f\"},\"marker\":{\"line\":{\"color\":\"#E5ECF6\",\"width\":0.5},\"pattern\":{\"fillmode\":\"overlay\",\"size\":10,\"solidity\":0.2}},\"type\":\"bar\"}],\"scattergeo\":[{\"type\":\"scattergeo\",\"marker\":{\"colorbar\":{\"outlinewidth\":0,\"ticks\":\"\"}}}],\"scatterpolar\":[{\"type\":\"scatterpolar\",\"marker\":{\"colorbar\":{\"outlinewidth\":0,\"ticks\":\"\"}}}],\"histogram\":[{\"marker\":{\"pattern\":{\"fillmode\":\"overlay\",\"size\":10,\"solidity\":0.2}},\"type\":\"histogram\"}],\"scattergl\":[{\"type\":\"scattergl\",\"marker\":{\"colorbar\":{\"outlinewidth\":0,\"ticks\":\"\"}}}],\"scatter3d\":[{\"type\":\"scatter3d\",\"line\":{\"colorbar\":{\"outlinewidth\":0,\"ticks\":\"\"}},\"marker\":{\"colorbar\":{\"outlinewidth\":0,\"ticks\":\"\"}}}],\"scattermapbox\":[{\"type\":\"scattermapbox\",\"marker\":{\"colorbar\":{\"outlinewidth\":0,\"ticks\":\"\"}}}],\"scatterternary\":[{\"type\":\"scatterternary\",\"marker\":{\"colorbar\":{\"outlinewidth\":0,\"ticks\":\"\"}}}],\"scattercarpet\":[{\"type\":\"scattercarpet\",\"marker\":{\"colorbar\":{\"outlinewidth\":0,\"ticks\":\"\"}}}],\"carpet\":[{\"aaxis\":{\"endlinecolor\":\"#2a3f5f\",\"gridcolor\":\"white\",\"linecolor\":\"white\",\"minorgridcolor\":\"white\",\"startlinecolor\":\"#2a3f5f\"},\"baxis\":{\"endlinecolor\":\"#2a3f5f\",\"gridcolor\":\"white\",\"linecolor\":\"white\",\"minorgridcolor\":\"white\",\"startlinecolor\":\"#2a3f5f\"},\"type\":\"carpet\"}],\"table\":[{\"cells\":{\"fill\":{\"color\":\"#EBF0F8\"},\"line\":{\"color\":\"white\"}},\"header\":{\"fill\":{\"color\":\"#C8D4E3\"},\"line\":{\"color\":\"white\"}},\"type\":\"table\"}],\"barpolar\":[{\"marker\":{\"line\":{\"color\":\"#E5ECF6\",\"width\":0.5},\"pattern\":{\"fillmode\":\"overlay\",\"size\":10,\"solidity\":0.2}},\"type\":\"barpolar\"}],\"pie\":[{\"automargin\":true,\"type\":\"pie\"}]},\"layout\":{\"autotypenumbers\":\"strict\",\"colorway\":[\"#636efa\",\"#EF553B\",\"#00cc96\",\"#ab63fa\",\"#FFA15A\",\"#19d3f3\",\"#FF6692\",\"#B6E880\",\"#FF97FF\",\"#FECB52\"],\"font\":{\"color\":\"#2a3f5f\"},\"hovermode\":\"closest\",\"hoverlabel\":{\"align\":\"left\"},\"paper_bgcolor\":\"white\",\"plot_bgcolor\":\"#E5ECF6\",\"polar\":{\"bgcolor\":\"#E5ECF6\",\"angularaxis\":{\"gridcolor\":\"white\",\"linecolor\":\"white\",\"ticks\":\"\"},\"radialaxis\":{\"gridcolor\":\"white\",\"linecolor\":\"white\",\"ticks\":\"\"}},\"ternary\":{\"bgcolor\":\"#E5ECF6\",\"aaxis\":{\"gridcolor\":\"white\",\"linecolor\":\"white\",\"ticks\":\"\"},\"baxis\":{\"gridcolor\":\"white\",\"linecolor\":\"white\",\"ticks\":\"\"},\"caxis\":{\"gridcolor\":\"white\",\"linecolor\":\"white\",\"ticks\":\"\"}},\"coloraxis\":{\"colorbar\":{\"outlinewidth\":0,\"ticks\":\"\"}},\"colorscale\":{\"sequential\":[[0.0,\"#0d0887\"],[0.1111111111111111,\"#46039f\"],[0.2222222222222222,\"#7201a8\"],[0.3333333333333333,\"#9c179e\"],[0.4444444444444444,\"#bd3786\"],[0.5555555555555556,\"#d8576b\"],[0.6666666666666666,\"#ed7953\"],[0.7777777777777778,\"#fb9f3a\"],[0.8888888888888888,\"#fdca26\"],[1.0,\"#f0f921\"]],\"sequentialminus\":[[0.0,\"#0d0887\"],[0.1111111111111111,\"#46039f\"],[0.2222222222222222,\"#7201a8\"],[0.3333333333333333,\"#9c179e\"],[0.4444444444444444,\"#bd3786\"],[0.5555555555555556,\"#d8576b\"],[0.6666666666666666,\"#ed7953\"],[0.7777777777777778,\"#fb9f3a\"],[0.8888888888888888,\"#fdca26\"],[1.0,\"#f0f921\"]],\"diverging\":[[0,\"#8e0152\"],[0.1,\"#c51b7d\"],[0.2,\"#de77ae\"],[0.3,\"#f1b6da\"],[0.4,\"#fde0ef\"],[0.5,\"#f7f7f7\"],[0.6,\"#e6f5d0\"],[0.7,\"#b8e186\"],[0.8,\"#7fbc41\"],[0.9,\"#4d9221\"],[1,\"#276419\"]]},\"xaxis\":{\"gridcolor\":\"white\",\"linecolor\":\"white\",\"ticks\":\"\",\"title\":{\"standoff\":15},\"zerolinecolor\":\"white\",\"automargin\":true,\"zerolinewidth\":2},\"yaxis\":{\"gridcolor\":\"white\",\"linecolor\":\"white\",\"ticks\":\"\",\"title\":{\"standoff\":15},\"zerolinecolor\":\"white\",\"automargin\":true,\"zerolinewidth\":2},\"scene\":{\"xaxis\":{\"backgroundcolor\":\"#E5ECF6\",\"gridcolor\":\"white\",\"linecolor\":\"white\",\"showbackground\":true,\"ticks\":\"\",\"zerolinecolor\":\"white\",\"gridwidth\":2},\"yaxis\":{\"backgroundcolor\":\"#E5ECF6\",\"gridcolor\":\"white\",\"linecolor\":\"white\",\"showbackground\":true,\"ticks\":\"\",\"zerolinecolor\":\"white\",\"gridwidth\":2},\"zaxis\":{\"backgroundcolor\":\"#E5ECF6\",\"gridcolor\":\"white\",\"linecolor\":\"white\",\"showbackground\":true,\"ticks\":\"\",\"zerolinecolor\":\"white\",\"gridwidth\":2}},\"shapedefaults\":{\"line\":{\"color\":\"#2a3f5f\"}},\"annotationdefaults\":{\"arrowcolor\":\"#2a3f5f\",\"arrowhead\":0,\"arrowwidth\":1},\"geo\":{\"bgcolor\":\"white\",\"landcolor\":\"#E5ECF6\",\"subunitcolor\":\"white\",\"showland\":true,\"showlakes\":true,\"lakecolor\":\"white\"},\"title\":{\"x\":0.05},\"mapbox\":{\"style\":\"light\"}}},\"xaxis\":{\"anchor\":\"y\",\"domain\":[0.0,1.0],\"title\":{\"text\":\"X\"},\"type\":\"log\"},\"yaxis\":{\"anchor\":\"x\",\"domain\":[0.0,1.0],\"title\":{\"text\":\"Y\"}},\"legend\":{\"tracegroupgap\":0},\"margin\":{\"t\":60},\"title\":{\"text\":\"Meet Fresh Ingredient Words Embedding Chart\"},\"height\":800},                        {\"responsive\": true}                    ).then(function(){\n",
       "                            \n",
       "var gd = document.getElementById('ac79cf29-26ec-4023-9afd-da21609de9ba');\n",
       "var x = new MutationObserver(function (mutations, observer) {{\n",
       "        var display = window.getComputedStyle(gd).display;\n",
       "        if (!display || display === 'none') {{\n",
       "            console.log([gd, 'removed!']);\n",
       "            Plotly.purge(gd);\n",
       "            observer.disconnect();\n",
       "        }}\n",
       "}});\n",
       "\n",
       "// Listen for the removal of the full notebook cells\n",
       "var notebookContainer = gd.closest('#notebook-container');\n",
       "if (notebookContainer) {{\n",
       "    x.observe(notebookContainer, {childList: true});\n",
       "}}\n",
       "\n",
       "// Listen for the clearing of the current output cell\n",
       "var outputEl = gd.closest('.output');\n",
       "if (outputEl) {{\n",
       "    x.observe(outputEl, {childList: true});\n",
       "}}\n",
       "\n",
       "                        })                };                });            </script>        </div>"
      ]
     },
     "metadata": {},
     "output_type": "display_data"
    }
   ],
   "source": [
    "import plotly.express as px\n",
    "\n",
    "# plotting a scatter plot\n",
    "fig = px.scatter(df, x=\"X\", y=\"Y\", text=\"Words\", log_x=True, size_max=60)\n",
    "# adjusting the text position\n",
    "fig.update_traces(textposition='top center')\n",
    "# setting up the height and title\n",
    "fig.update_layout(\n",
    "    height=800,\n",
    "    title_text='Meet Fresh Ingredient Words Embedding Chart'\n",
    ")\n",
    "# displaying the figure\n",
    "fig.show()"
   ]
  },
  {
   "cell_type": "code",
   "execution_count": null,
   "id": "d15b07b1-c196-47f8-b9d9-460af44babe4",
   "metadata": {},
   "outputs": [],
   "source": [
    "# save the embedding\n",
    "import pickle \n",
    "\n",
    "# with open('saved_ingredient_embedding_dictionary.pkl', 'wb') as f:\n",
    "#     pickle.dump(embedding_dict, f)\n",
    "        \n",
    "with open('saved_ingredient_embedding_dictionary.pkl', 'rb') as f:\n",
    "    embedding_dict = pickle.load(f)"
   ]
  },
  {
   "cell_type": "markdown",
   "id": "3eb78c47-2099-489d-99fd-a61f786b49d8",
   "metadata": {},
   "source": [
    "### II - Content-Based Filtering using Trained Embedding as Features\n",
    "Now that we have the custom trained word embeddings for Meet Fresh ingredients, we create a vector representation for each ingredient using its text description and use the vector as feature vector for the item.\n",
    "\n",
    "Content-based filtering model uses the feature space defined by the feature vectors to predict ratings from each customer for each ingredient."
   ]
  },
  {
   "cell_type": "markdown",
   "id": "989b4e33-7597-4c7d-b650-bcb95ec7e142",
   "metadata": {},
   "source": [
    "#### Step 1: Create ingredient embeddings"
   ]
  },
  {
   "cell_type": "code",
   "execution_count": null,
   "id": "288c75f8-bfc8-4462-b0a4-36e8c7380208",
   "metadata": {},
   "outputs": [
    {
     "data": {
      "text/plain": [
       "array([ 0.15991925, -0.35228106, -0.6895221 , -0.6528382 ,  1.2570035 ,\n",
       "        1.2760234 , -1.508231  ,  0.7115914 ,  0.6295069 ,  0.3594366 ,\n",
       "       -0.7920568 ,  0.8343176 , -0.7932548 ,  0.8127102 ,  1.2525693 ,\n",
       "        0.63460433,  1.0949285 , -1.0136517 ,  0.9496606 ,  0.20419765],\n",
       "      dtype=float32)"
      ]
     },
     "execution_count": 101,
     "metadata": {},
     "output_type": "execute_result"
    }
   ],
   "source": [
    "embedding_dict['taro']"
   ]
  },
  {
   "cell_type": "code",
   "execution_count": null,
   "id": "1a85b7d3-e78a-465b-ae56-29a5d84694c4",
   "metadata": {},
   "outputs": [],
   "source": [
    "# create embeddings for each Meet Fresh ingredient\n",
    "ingredient_embedding = []\n",
    "for line in cleaned_lines:\n",
    "    word_array = np.empty(N)\n",
    "    for word in line:\n",
    "        word_array = np.add(word_array, embedding_dict[word])\n",
    "    ingredient_array = word_array/len(line)\n",
    "    \n",
    "    ingredient_embedding.append(ingredient_array)"
   ]
  },
  {
   "cell_type": "code",
   "execution_count": null,
   "id": "eb0a7c5d-5195-4c53-89b6-224a910f6bff",
   "metadata": {},
   "outputs": [],
   "source": [
    "# create a dictionary with ingredient_id and its ingredient embedding array\n",
    "ingredient_embed_dict = dict(zip(ingredient_df['ingredient_name'], ingredient_embedding))"
   ]
  },
  {
   "cell_type": "code",
   "execution_count": null,
   "id": "140577eb-7b34-40f2-ab8f-eb9ac9d7ed0a",
   "metadata": {},
   "outputs": [
    {
     "data": {
      "application/vnd.plotly.v1+json": {
       "config": {
        "plotlyServerURL": "https://plot.ly"
       },
       "data": [
        {
         "hovertemplate": "X=%{x}<br>Y=%{y}<br>Ingredients=%{text}<extra></extra>",
         "legendgroup": "",
         "marker": {
          "color": "#636efa",
          "symbol": "circle"
         },
         "mode": "markers+text",
         "name": "",
         "orientation": "v",
         "showlegend": false,
         "text": [
          "Taro Balls",
          "Mini Q (Mini Taro Ball)",
          "Taro",
          "Taro Paste",
          "Sesame Rice Balls",
          "Caramel Pudding",
          "Almond Pudding",
          "Ice Cream",
          "Q Mochi",
          "Potaro Balls",
          "Red Beans",
          "Peanuts",
          "Grass Jelly",
          "Melon Jelly",
          "Boba",
          "Black Sugar Boba",
          "Rice Balls",
          "Tofu Pudding",
          "Sweet Potato",
          "Almond Flakes",
          "Coco Mochi",
          "Coco Sago",
          "Sago",
          "Lychee Jelly"
         ],
         "textposition": "top center",
         "type": "scatter",
         "x": [
          -0.30459605109668947,
          0.07417701123326897,
          -0.3587389696449141,
          -0.839456469357713,
          1.8394437540190396,
          1.1918850837897952,
          1.2596176480947496,
          0.08941790483477967,
          1.3712684577842558,
          -0.3334915663796592,
          0.2826444849284822,
          -0.2181151226957575,
          -0.2952885435952584,
          -1.1501693975791534,
          -1.2451726824089442,
          -1.4675353858843312,
          0.673283918239848,
          -1.0053151752303853,
          -1.6130284942969535,
          1.0276489474550656,
          0.2604804163605581,
          0.9291566737599494,
          0.37416185512056194,
          -0.5422782974505955
         ],
         "xaxis": "x",
         "y": [
          -0.21371202698586103,
          1.8760467841189485,
          0.4630934558562671,
          -0.9028255804535252,
          0.15830591913656375,
          -0.290376180161372,
          -1.0150478979530335,
          0.028177015712011037,
          -0.3451438225169662,
          -1.568248617907467,
          1.2638229238762912,
          1.2433985289312337,
          0.23230249755143206,
          -0.03657550453673155,
          -0.3774915574132207,
          0.2695275139625266,
          -0.1900050941245741,
          0.5909206047622749,
          -1.3277565032280654,
          -0.601911555398707,
          -0.9046214253574538,
          -0.3077842462507455,
          1.2355901681756851,
          0.7203146002044889
         ],
         "yaxis": "y"
        }
       ],
       "layout": {
        "autosize": true,
        "legend": {
         "tracegroupgap": 0
        },
        "margin": {
         "t": 60
        },
        "template": {
         "data": {
          "bar": [
           {
            "error_x": {
             "color": "#2a3f5f"
            },
            "error_y": {
             "color": "#2a3f5f"
            },
            "marker": {
             "line": {
              "color": "#E5ECF6",
              "width": 0.5
             },
             "pattern": {
              "fillmode": "overlay",
              "size": 10,
              "solidity": 0.2
             }
            },
            "type": "bar"
           }
          ],
          "barpolar": [
           {
            "marker": {
             "line": {
              "color": "#E5ECF6",
              "width": 0.5
             },
             "pattern": {
              "fillmode": "overlay",
              "size": 10,
              "solidity": 0.2
             }
            },
            "type": "barpolar"
           }
          ],
          "carpet": [
           {
            "aaxis": {
             "endlinecolor": "#2a3f5f",
             "gridcolor": "white",
             "linecolor": "white",
             "minorgridcolor": "white",
             "startlinecolor": "#2a3f5f"
            },
            "baxis": {
             "endlinecolor": "#2a3f5f",
             "gridcolor": "white",
             "linecolor": "white",
             "minorgridcolor": "white",
             "startlinecolor": "#2a3f5f"
            },
            "type": "carpet"
           }
          ],
          "choropleth": [
           {
            "colorbar": {
             "outlinewidth": 0,
             "ticks": ""
            },
            "type": "choropleth"
           }
          ],
          "contour": [
           {
            "colorbar": {
             "outlinewidth": 0,
             "ticks": ""
            },
            "colorscale": [
             [
              0,
              "#0d0887"
             ],
             [
              0.1111111111111111,
              "#46039f"
             ],
             [
              0.2222222222222222,
              "#7201a8"
             ],
             [
              0.3333333333333333,
              "#9c179e"
             ],
             [
              0.4444444444444444,
              "#bd3786"
             ],
             [
              0.5555555555555556,
              "#d8576b"
             ],
             [
              0.6666666666666666,
              "#ed7953"
             ],
             [
              0.7777777777777778,
              "#fb9f3a"
             ],
             [
              0.8888888888888888,
              "#fdca26"
             ],
             [
              1,
              "#f0f921"
             ]
            ],
            "type": "contour"
           }
          ],
          "contourcarpet": [
           {
            "colorbar": {
             "outlinewidth": 0,
             "ticks": ""
            },
            "type": "contourcarpet"
           }
          ],
          "heatmap": [
           {
            "colorbar": {
             "outlinewidth": 0,
             "ticks": ""
            },
            "colorscale": [
             [
              0,
              "#0d0887"
             ],
             [
              0.1111111111111111,
              "#46039f"
             ],
             [
              0.2222222222222222,
              "#7201a8"
             ],
             [
              0.3333333333333333,
              "#9c179e"
             ],
             [
              0.4444444444444444,
              "#bd3786"
             ],
             [
              0.5555555555555556,
              "#d8576b"
             ],
             [
              0.6666666666666666,
              "#ed7953"
             ],
             [
              0.7777777777777778,
              "#fb9f3a"
             ],
             [
              0.8888888888888888,
              "#fdca26"
             ],
             [
              1,
              "#f0f921"
             ]
            ],
            "type": "heatmap"
           }
          ],
          "heatmapgl": [
           {
            "colorbar": {
             "outlinewidth": 0,
             "ticks": ""
            },
            "colorscale": [
             [
              0,
              "#0d0887"
             ],
             [
              0.1111111111111111,
              "#46039f"
             ],
             [
              0.2222222222222222,
              "#7201a8"
             ],
             [
              0.3333333333333333,
              "#9c179e"
             ],
             [
              0.4444444444444444,
              "#bd3786"
             ],
             [
              0.5555555555555556,
              "#d8576b"
             ],
             [
              0.6666666666666666,
              "#ed7953"
             ],
             [
              0.7777777777777778,
              "#fb9f3a"
             ],
             [
              0.8888888888888888,
              "#fdca26"
             ],
             [
              1,
              "#f0f921"
             ]
            ],
            "type": "heatmapgl"
           }
          ],
          "histogram": [
           {
            "marker": {
             "pattern": {
              "fillmode": "overlay",
              "size": 10,
              "solidity": 0.2
             }
            },
            "type": "histogram"
           }
          ],
          "histogram2d": [
           {
            "colorbar": {
             "outlinewidth": 0,
             "ticks": ""
            },
            "colorscale": [
             [
              0,
              "#0d0887"
             ],
             [
              0.1111111111111111,
              "#46039f"
             ],
             [
              0.2222222222222222,
              "#7201a8"
             ],
             [
              0.3333333333333333,
              "#9c179e"
             ],
             [
              0.4444444444444444,
              "#bd3786"
             ],
             [
              0.5555555555555556,
              "#d8576b"
             ],
             [
              0.6666666666666666,
              "#ed7953"
             ],
             [
              0.7777777777777778,
              "#fb9f3a"
             ],
             [
              0.8888888888888888,
              "#fdca26"
             ],
             [
              1,
              "#f0f921"
             ]
            ],
            "type": "histogram2d"
           }
          ],
          "histogram2dcontour": [
           {
            "colorbar": {
             "outlinewidth": 0,
             "ticks": ""
            },
            "colorscale": [
             [
              0,
              "#0d0887"
             ],
             [
              0.1111111111111111,
              "#46039f"
             ],
             [
              0.2222222222222222,
              "#7201a8"
             ],
             [
              0.3333333333333333,
              "#9c179e"
             ],
             [
              0.4444444444444444,
              "#bd3786"
             ],
             [
              0.5555555555555556,
              "#d8576b"
             ],
             [
              0.6666666666666666,
              "#ed7953"
             ],
             [
              0.7777777777777778,
              "#fb9f3a"
             ],
             [
              0.8888888888888888,
              "#fdca26"
             ],
             [
              1,
              "#f0f921"
             ]
            ],
            "type": "histogram2dcontour"
           }
          ],
          "mesh3d": [
           {
            "colorbar": {
             "outlinewidth": 0,
             "ticks": ""
            },
            "type": "mesh3d"
           }
          ],
          "parcoords": [
           {
            "line": {
             "colorbar": {
              "outlinewidth": 0,
              "ticks": ""
             }
            },
            "type": "parcoords"
           }
          ],
          "pie": [
           {
            "automargin": true,
            "type": "pie"
           }
          ],
          "scatter": [
           {
            "fillpattern": {
             "fillmode": "overlay",
             "size": 10,
             "solidity": 0.2
            },
            "type": "scatter"
           }
          ],
          "scatter3d": [
           {
            "line": {
             "colorbar": {
              "outlinewidth": 0,
              "ticks": ""
             }
            },
            "marker": {
             "colorbar": {
              "outlinewidth": 0,
              "ticks": ""
             }
            },
            "type": "scatter3d"
           }
          ],
          "scattercarpet": [
           {
            "marker": {
             "colorbar": {
              "outlinewidth": 0,
              "ticks": ""
             }
            },
            "type": "scattercarpet"
           }
          ],
          "scattergeo": [
           {
            "marker": {
             "colorbar": {
              "outlinewidth": 0,
              "ticks": ""
             }
            },
            "type": "scattergeo"
           }
          ],
          "scattergl": [
           {
            "marker": {
             "colorbar": {
              "outlinewidth": 0,
              "ticks": ""
             }
            },
            "type": "scattergl"
           }
          ],
          "scattermapbox": [
           {
            "marker": {
             "colorbar": {
              "outlinewidth": 0,
              "ticks": ""
             }
            },
            "type": "scattermapbox"
           }
          ],
          "scatterpolar": [
           {
            "marker": {
             "colorbar": {
              "outlinewidth": 0,
              "ticks": ""
             }
            },
            "type": "scatterpolar"
           }
          ],
          "scatterpolargl": [
           {
            "marker": {
             "colorbar": {
              "outlinewidth": 0,
              "ticks": ""
             }
            },
            "type": "scatterpolargl"
           }
          ],
          "scatterternary": [
           {
            "marker": {
             "colorbar": {
              "outlinewidth": 0,
              "ticks": ""
             }
            },
            "type": "scatterternary"
           }
          ],
          "surface": [
           {
            "colorbar": {
             "outlinewidth": 0,
             "ticks": ""
            },
            "colorscale": [
             [
              0,
              "#0d0887"
             ],
             [
              0.1111111111111111,
              "#46039f"
             ],
             [
              0.2222222222222222,
              "#7201a8"
             ],
             [
              0.3333333333333333,
              "#9c179e"
             ],
             [
              0.4444444444444444,
              "#bd3786"
             ],
             [
              0.5555555555555556,
              "#d8576b"
             ],
             [
              0.6666666666666666,
              "#ed7953"
             ],
             [
              0.7777777777777778,
              "#fb9f3a"
             ],
             [
              0.8888888888888888,
              "#fdca26"
             ],
             [
              1,
              "#f0f921"
             ]
            ],
            "type": "surface"
           }
          ],
          "table": [
           {
            "cells": {
             "fill": {
              "color": "#EBF0F8"
             },
             "line": {
              "color": "white"
             }
            },
            "header": {
             "fill": {
              "color": "#C8D4E3"
             },
             "line": {
              "color": "white"
             }
            },
            "type": "table"
           }
          ]
         },
         "layout": {
          "annotationdefaults": {
           "arrowcolor": "#2a3f5f",
           "arrowhead": 0,
           "arrowwidth": 1
          },
          "autotypenumbers": "strict",
          "coloraxis": {
           "colorbar": {
            "outlinewidth": 0,
            "ticks": ""
           }
          },
          "colorscale": {
           "diverging": [
            [
             0,
             "#8e0152"
            ],
            [
             0.1,
             "#c51b7d"
            ],
            [
             0.2,
             "#de77ae"
            ],
            [
             0.3,
             "#f1b6da"
            ],
            [
             0.4,
             "#fde0ef"
            ],
            [
             0.5,
             "#f7f7f7"
            ],
            [
             0.6,
             "#e6f5d0"
            ],
            [
             0.7,
             "#b8e186"
            ],
            [
             0.8,
             "#7fbc41"
            ],
            [
             0.9,
             "#4d9221"
            ],
            [
             1,
             "#276419"
            ]
           ],
           "sequential": [
            [
             0,
             "#0d0887"
            ],
            [
             0.1111111111111111,
             "#46039f"
            ],
            [
             0.2222222222222222,
             "#7201a8"
            ],
            [
             0.3333333333333333,
             "#9c179e"
            ],
            [
             0.4444444444444444,
             "#bd3786"
            ],
            [
             0.5555555555555556,
             "#d8576b"
            ],
            [
             0.6666666666666666,
             "#ed7953"
            ],
            [
             0.7777777777777778,
             "#fb9f3a"
            ],
            [
             0.8888888888888888,
             "#fdca26"
            ],
            [
             1,
             "#f0f921"
            ]
           ],
           "sequentialminus": [
            [
             0,
             "#0d0887"
            ],
            [
             0.1111111111111111,
             "#46039f"
            ],
            [
             0.2222222222222222,
             "#7201a8"
            ],
            [
             0.3333333333333333,
             "#9c179e"
            ],
            [
             0.4444444444444444,
             "#bd3786"
            ],
            [
             0.5555555555555556,
             "#d8576b"
            ],
            [
             0.6666666666666666,
             "#ed7953"
            ],
            [
             0.7777777777777778,
             "#fb9f3a"
            ],
            [
             0.8888888888888888,
             "#fdca26"
            ],
            [
             1,
             "#f0f921"
            ]
           ]
          },
          "colorway": [
           "#636efa",
           "#EF553B",
           "#00cc96",
           "#ab63fa",
           "#FFA15A",
           "#19d3f3",
           "#FF6692",
           "#B6E880",
           "#FF97FF",
           "#FECB52"
          ],
          "font": {
           "color": "#2a3f5f"
          },
          "geo": {
           "bgcolor": "white",
           "lakecolor": "white",
           "landcolor": "#E5ECF6",
           "showlakes": true,
           "showland": true,
           "subunitcolor": "white"
          },
          "hoverlabel": {
           "align": "left"
          },
          "hovermode": "closest",
          "mapbox": {
           "style": "light"
          },
          "paper_bgcolor": "white",
          "plot_bgcolor": "#E5ECF6",
          "polar": {
           "angularaxis": {
            "gridcolor": "white",
            "linecolor": "white",
            "ticks": ""
           },
           "bgcolor": "#E5ECF6",
           "radialaxis": {
            "gridcolor": "white",
            "linecolor": "white",
            "ticks": ""
           }
          },
          "scene": {
           "xaxis": {
            "backgroundcolor": "#E5ECF6",
            "gridcolor": "white",
            "gridwidth": 2,
            "linecolor": "white",
            "showbackground": true,
            "ticks": "",
            "zerolinecolor": "white"
           },
           "yaxis": {
            "backgroundcolor": "#E5ECF6",
            "gridcolor": "white",
            "gridwidth": 2,
            "linecolor": "white",
            "showbackground": true,
            "ticks": "",
            "zerolinecolor": "white"
           },
           "zaxis": {
            "backgroundcolor": "#E5ECF6",
            "gridcolor": "white",
            "gridwidth": 2,
            "linecolor": "white",
            "showbackground": true,
            "ticks": "",
            "zerolinecolor": "white"
           }
          },
          "shapedefaults": {
           "line": {
            "color": "#2a3f5f"
           }
          },
          "ternary": {
           "aaxis": {
            "gridcolor": "white",
            "linecolor": "white",
            "ticks": ""
           },
           "baxis": {
            "gridcolor": "white",
            "linecolor": "white",
            "ticks": ""
           },
           "bgcolor": "#E5ECF6",
           "caxis": {
            "gridcolor": "white",
            "linecolor": "white",
            "ticks": ""
           }
          },
          "title": {
           "x": 0.05
          },
          "xaxis": {
           "automargin": true,
           "gridcolor": "white",
           "linecolor": "white",
           "ticks": "",
           "title": {
            "standoff": 15
           },
           "zerolinecolor": "white",
           "zerolinewidth": 2
          },
          "yaxis": {
           "automargin": true,
           "gridcolor": "white",
           "linecolor": "white",
           "ticks": "",
           "title": {
            "standoff": 15
           },
           "zerolinecolor": "white",
           "zerolinewidth": 2
          }
         }
        },
        "title": {
         "text": "Meet Fresh Ingredient Items Embedding Chart"
        },
        "xaxis": {
         "anchor": "y",
         "autorange": true,
         "domain": [
          0,
          1
         ],
         "range": [
          -1.8243327128295102,
          2.0507479725515965
         ],
         "title": {
          "text": "X"
         },
         "type": "linear"
        },
        "yaxis": {
         "anchor": "x",
         "autorange": true,
         "domain": [
          0,
          1
         ],
         "range": [
          -1.7840676392620634,
          2.091865805473545
         ],
         "title": {
          "text": "Y"
         },
         "type": "linear"
        }
       }
      },
      "image/png": "[encoded data removed]",
      "text/html": [
       "<div>                            <div id=\"a6d385c7-af8b-40f8-9564-9f281fe5d5a3\" class=\"plotly-graph-div\" style=\"height:800px; width:100%;\"></div>            <script type=\"text/javascript\">                require([\"plotly\"], function(Plotly) {                    window.PLOTLYENV=window.PLOTLYENV || {};                                    if (document.getElementById(\"a6d385c7-af8b-40f8-9564-9f281fe5d5a3\")) {                    Plotly.newPlot(                        \"a6d385c7-af8b-40f8-9564-9f281fe5d5a3\",                        [{\"hovertemplate\":\"X=%{x}<br>Y=%{y}<br>Ingredients=%{text}<extra></extra>\",\"legendgroup\":\"\",\"marker\":{\"color\":\"#636efa\",\"symbol\":\"circle\"},\"mode\":\"markers+text\",\"name\":\"\",\"orientation\":\"v\",\"showlegend\":false,\"text\":[\"Taro Balls\",\"Mini Q (Mini Taro Ball)\",\"Taro\",\"Taro Paste\",\"Sesame Rice Balls\",\"Caramel Pudding\",\"Almond Pudding\",\"Ice Cream\",\"Q Mochi\",\"Potaro Balls\",\"Red Beans\",\"Peanuts\",\"Grass Jelly\",\"Melon Jelly\",\"Boba\",\"Black Sugar Boba\",\"Rice Balls\",\"Tofu Pudding\",\"Sweet Potato\",\"Almond Flakes\",\"Coco Mochi\",\"Coco Sago\",\"Sago\",\"Lychee Jelly\"],\"x\":[-0.30459605109668947,0.07417701123326897,-0.3587389696449141,-0.839456469357713,1.8394437540190396,1.1918850837897952,1.2596176480947496,0.08941790483477967,1.3712684577842558,-0.3334915663796592,0.2826444849284822,-0.2181151226957575,-0.2952885435952584,-1.1501693975791534,-1.2451726824089442,-1.4675353858843312,0.673283918239848,-1.0053151752303853,-1.6130284942969535,1.0276489474550656,0.2604804163605581,0.9291566737599494,0.37416185512056194,-0.5422782974505955],\"xaxis\":\"x\",\"y\":[-0.21371202698586103,1.8760467841189485,0.4630934558562671,-0.9028255804535252,0.15830591913656375,-0.290376180161372,-1.0150478979530335,0.028177015712011037,-0.3451438225169662,-1.568248617907467,1.2638229238762912,1.2433985289312337,0.23230249755143206,-0.03657550453673155,-0.3774915574132207,0.2695275139625266,-0.1900050941245741,0.5909206047622749,-1.3277565032280654,-0.601911555398707,-0.9046214253574538,-0.3077842462507455,1.2355901681756851,0.7203146002044889],\"yaxis\":\"y\",\"type\":\"scatter\",\"textposition\":\"top center\"}],                        {\"template\":{\"data\":{\"histogram2dcontour\":[{\"type\":\"histogram2dcontour\",\"colorbar\":{\"outlinewidth\":0,\"ticks\":\"\"},\"colorscale\":[[0.0,\"#0d0887\"],[0.1111111111111111,\"#46039f\"],[0.2222222222222222,\"#7201a8\"],[0.3333333333333333,\"#9c179e\"],[0.4444444444444444,\"#bd3786\"],[0.5555555555555556,\"#d8576b\"],[0.6666666666666666,\"#ed7953\"],[0.7777777777777778,\"#fb9f3a\"],[0.8888888888888888,\"#fdca26\"],[1.0,\"#f0f921\"]]}],\"choropleth\":[{\"type\":\"choropleth\",\"colorbar\":{\"outlinewidth\":0,\"ticks\":\"\"}}],\"histogram2d\":[{\"type\":\"histogram2d\",\"colorbar\":{\"outlinewidth\":0,\"ticks\":\"\"},\"colorscale\":[[0.0,\"#0d0887\"],[0.1111111111111111,\"#46039f\"],[0.2222222222222222,\"#7201a8\"],[0.3333333333333333,\"#9c179e\"],[0.4444444444444444,\"#bd3786\"],[0.5555555555555556,\"#d8576b\"],[0.6666666666666666,\"#ed7953\"],[0.7777777777777778,\"#fb9f3a\"],[0.8888888888888888,\"#fdca26\"],[1.0,\"#f0f921\"]]}],\"heatmap\":[{\"type\":\"heatmap\",\"colorbar\":{\"outlinewidth\":0,\"ticks\":\"\"},\"colorscale\":[[0.0,\"#0d0887\"],[0.1111111111111111,\"#46039f\"],[0.2222222222222222,\"#7201a8\"],[0.3333333333333333,\"#9c179e\"],[0.4444444444444444,\"#bd3786\"],[0.5555555555555556,\"#d8576b\"],[0.6666666666666666,\"#ed7953\"],[0.7777777777777778,\"#fb9f3a\"],[0.8888888888888888,\"#fdca26\"],[1.0,\"#f0f921\"]]}],\"heatmapgl\":[{\"type\":\"heatmapgl\",\"colorbar\":{\"outlinewidth\":0,\"ticks\":\"\"},\"colorscale\":[[0.0,\"#0d0887\"],[0.1111111111111111,\"#46039f\"],[0.2222222222222222,\"#7201a8\"],[0.3333333333333333,\"#9c179e\"],[0.4444444444444444,\"#bd3786\"],[0.5555555555555556,\"#d8576b\"],[0.6666666666666666,\"#ed7953\"],[0.7777777777777778,\"#fb9f3a\"],[0.8888888888888888,\"#fdca26\"],[1.0,\"#f0f921\"]]}],\"contourcarpet\":[{\"type\":\"contourcarpet\",\"colorbar\":{\"outlinewidth\":0,\"ticks\":\"\"}}],\"contour\":[{\"type\":\"contour\",\"colorbar\":{\"outlinewidth\":0,\"ticks\":\"\"},\"colorscale\":[[0.0,\"#0d0887\"],[0.1111111111111111,\"#46039f\"],[0.2222222222222222,\"#7201a8\"],[0.3333333333333333,\"#9c179e\"],[0.4444444444444444,\"#bd3786\"],[0.5555555555555556,\"#d8576b\"],[0.6666666666666666,\"#ed7953\"],[0.7777777777777778,\"#fb9f3a\"],[0.8888888888888888,\"#fdca26\"],[1.0,\"#f0f921\"]]}],\"surface\":[{\"type\":\"surface\",\"colorbar\":{\"outlinewidth\":0,\"ticks\":\"\"},\"colorscale\":[[0.0,\"#0d0887\"],[0.1111111111111111,\"#46039f\"],[0.2222222222222222,\"#7201a8\"],[0.3333333333333333,\"#9c179e\"],[0.4444444444444444,\"#bd3786\"],[0.5555555555555556,\"#d8576b\"],[0.6666666666666666,\"#ed7953\"],[0.7777777777777778,\"#fb9f3a\"],[0.8888888888888888,\"#fdca26\"],[1.0,\"#f0f921\"]]}],\"mesh3d\":[{\"type\":\"mesh3d\",\"colorbar\":{\"outlinewidth\":0,\"ticks\":\"\"}}],\"scatter\":[{\"fillpattern\":{\"fillmode\":\"overlay\",\"size\":10,\"solidity\":0.2},\"type\":\"scatter\"}],\"parcoords\":[{\"type\":\"parcoords\",\"line\":{\"colorbar\":{\"outlinewidth\":0,\"ticks\":\"\"}}}],\"scatterpolargl\":[{\"type\":\"scatterpolargl\",\"marker\":{\"colorbar\":{\"outlinewidth\":0,\"ticks\":\"\"}}}],\"bar\":[{\"error_x\":{\"color\":\"#2a3f5f\"},\"error_y\":{\"color\":\"#2a3f5f\"},\"marker\":{\"line\":{\"color\":\"#E5ECF6\",\"width\":0.5},\"pattern\":{\"fillmode\":\"overlay\",\"size\":10,\"solidity\":0.2}},\"type\":\"bar\"}],\"scattergeo\":[{\"type\":\"scattergeo\",\"marker\":{\"colorbar\":{\"outlinewidth\":0,\"ticks\":\"\"}}}],\"scatterpolar\":[{\"type\":\"scatterpolar\",\"marker\":{\"colorbar\":{\"outlinewidth\":0,\"ticks\":\"\"}}}],\"histogram\":[{\"marker\":{\"pattern\":{\"fillmode\":\"overlay\",\"size\":10,\"solidity\":0.2}},\"type\":\"histogram\"}],\"scattergl\":[{\"type\":\"scattergl\",\"marker\":{\"colorbar\":{\"outlinewidth\":0,\"ticks\":\"\"}}}],\"scatter3d\":[{\"type\":\"scatter3d\",\"line\":{\"colorbar\":{\"outlinewidth\":0,\"ticks\":\"\"}},\"marker\":{\"colorbar\":{\"outlinewidth\":0,\"ticks\":\"\"}}}],\"scattermapbox\":[{\"type\":\"scattermapbox\",\"marker\":{\"colorbar\":{\"outlinewidth\":0,\"ticks\":\"\"}}}],\"scatterternary\":[{\"type\":\"scatterternary\",\"marker\":{\"colorbar\":{\"outlinewidth\":0,\"ticks\":\"\"}}}],\"scattercarpet\":[{\"type\":\"scattercarpet\",\"marker\":{\"colorbar\":{\"outlinewidth\":0,\"ticks\":\"\"}}}],\"carpet\":[{\"aaxis\":{\"endlinecolor\":\"#2a3f5f\",\"gridcolor\":\"white\",\"linecolor\":\"white\",\"minorgridcolor\":\"white\",\"startlinecolor\":\"#2a3f5f\"},\"baxis\":{\"endlinecolor\":\"#2a3f5f\",\"gridcolor\":\"white\",\"linecolor\":\"white\",\"minorgridcolor\":\"white\",\"startlinecolor\":\"#2a3f5f\"},\"type\":\"carpet\"}],\"table\":[{\"cells\":{\"fill\":{\"color\":\"#EBF0F8\"},\"line\":{\"color\":\"white\"}},\"header\":{\"fill\":{\"color\":\"#C8D4E3\"},\"line\":{\"color\":\"white\"}},\"type\":\"table\"}],\"barpolar\":[{\"marker\":{\"line\":{\"color\":\"#E5ECF6\",\"width\":0.5},\"pattern\":{\"fillmode\":\"overlay\",\"size\":10,\"solidity\":0.2}},\"type\":\"barpolar\"}],\"pie\":[{\"automargin\":true,\"type\":\"pie\"}]},\"layout\":{\"autotypenumbers\":\"strict\",\"colorway\":[\"#636efa\",\"#EF553B\",\"#00cc96\",\"#ab63fa\",\"#FFA15A\",\"#19d3f3\",\"#FF6692\",\"#B6E880\",\"#FF97FF\",\"#FECB52\"],\"font\":{\"color\":\"#2a3f5f\"},\"hovermode\":\"closest\",\"hoverlabel\":{\"align\":\"left\"},\"paper_bgcolor\":\"white\",\"plot_bgcolor\":\"#E5ECF6\",\"polar\":{\"bgcolor\":\"#E5ECF6\",\"angularaxis\":{\"gridcolor\":\"white\",\"linecolor\":\"white\",\"ticks\":\"\"},\"radialaxis\":{\"gridcolor\":\"white\",\"linecolor\":\"white\",\"ticks\":\"\"}},\"ternary\":{\"bgcolor\":\"#E5ECF6\",\"aaxis\":{\"gridcolor\":\"white\",\"linecolor\":\"white\",\"ticks\":\"\"},\"baxis\":{\"gridcolor\":\"white\",\"linecolor\":\"white\",\"ticks\":\"\"},\"caxis\":{\"gridcolor\":\"white\",\"linecolor\":\"white\",\"ticks\":\"\"}},\"coloraxis\":{\"colorbar\":{\"outlinewidth\":0,\"ticks\":\"\"}},\"colorscale\":{\"sequential\":[[0.0,\"#0d0887\"],[0.1111111111111111,\"#46039f\"],[0.2222222222222222,\"#7201a8\"],[0.3333333333333333,\"#9c179e\"],[0.4444444444444444,\"#bd3786\"],[0.5555555555555556,\"#d8576b\"],[0.6666666666666666,\"#ed7953\"],[0.7777777777777778,\"#fb9f3a\"],[0.8888888888888888,\"#fdca26\"],[1.0,\"#f0f921\"]],\"sequentialminus\":[[0.0,\"#0d0887\"],[0.1111111111111111,\"#46039f\"],[0.2222222222222222,\"#7201a8\"],[0.3333333333333333,\"#9c179e\"],[0.4444444444444444,\"#bd3786\"],[0.5555555555555556,\"#d8576b\"],[0.6666666666666666,\"#ed7953\"],[0.7777777777777778,\"#fb9f3a\"],[0.8888888888888888,\"#fdca26\"],[1.0,\"#f0f921\"]],\"diverging\":[[0,\"#8e0152\"],[0.1,\"#c51b7d\"],[0.2,\"#de77ae\"],[0.3,\"#f1b6da\"],[0.4,\"#fde0ef\"],[0.5,\"#f7f7f7\"],[0.6,\"#e6f5d0\"],[0.7,\"#b8e186\"],[0.8,\"#7fbc41\"],[0.9,\"#4d9221\"],[1,\"#276419\"]]},\"xaxis\":{\"gridcolor\":\"white\",\"linecolor\":\"white\",\"ticks\":\"\",\"title\":{\"standoff\":15},\"zerolinecolor\":\"white\",\"automargin\":true,\"zerolinewidth\":2},\"yaxis\":{\"gridcolor\":\"white\",\"linecolor\":\"white\",\"ticks\":\"\",\"title\":{\"standoff\":15},\"zerolinecolor\":\"white\",\"automargin\":true,\"zerolinewidth\":2},\"scene\":{\"xaxis\":{\"backgroundcolor\":\"#E5ECF6\",\"gridcolor\":\"white\",\"linecolor\":\"white\",\"showbackground\":true,\"ticks\":\"\",\"zerolinecolor\":\"white\",\"gridwidth\":2},\"yaxis\":{\"backgroundcolor\":\"#E5ECF6\",\"gridcolor\":\"white\",\"linecolor\":\"white\",\"showbackground\":true,\"ticks\":\"\",\"zerolinecolor\":\"white\",\"gridwidth\":2},\"zaxis\":{\"backgroundcolor\":\"#E5ECF6\",\"gridcolor\":\"white\",\"linecolor\":\"white\",\"showbackground\":true,\"ticks\":\"\",\"zerolinecolor\":\"white\",\"gridwidth\":2}},\"shapedefaults\":{\"line\":{\"color\":\"#2a3f5f\"}},\"annotationdefaults\":{\"arrowcolor\":\"#2a3f5f\",\"arrowhead\":0,\"arrowwidth\":1},\"geo\":{\"bgcolor\":\"white\",\"landcolor\":\"#E5ECF6\",\"subunitcolor\":\"white\",\"showland\":true,\"showlakes\":true,\"lakecolor\":\"white\"},\"title\":{\"x\":0.05},\"mapbox\":{\"style\":\"light\"}}},\"xaxis\":{\"anchor\":\"y\",\"domain\":[0.0,1.0],\"title\":{\"text\":\"X\"}},\"yaxis\":{\"anchor\":\"x\",\"domain\":[0.0,1.0],\"title\":{\"text\":\"Y\"}},\"legend\":{\"tracegroupgap\":0},\"margin\":{\"t\":60},\"title\":{\"text\":\"Meet Fresh Ingredient Items Embedding Chart\"},\"height\":800},                        {\"responsive\": true}                    ).then(function(){\n",
       "                            \n",
       "var gd = document.getElementById('a6d385c7-af8b-40f8-9564-9f281fe5d5a3');\n",
       "var x = new MutationObserver(function (mutations, observer) {{\n",
       "        var display = window.getComputedStyle(gd).display;\n",
       "        if (!display || display === 'none') {{\n",
       "            console.log([gd, 'removed!']);\n",
       "            Plotly.purge(gd);\n",
       "            observer.disconnect();\n",
       "        }}\n",
       "}});\n",
       "\n",
       "// Listen for the removal of the full notebook cells\n",
       "var notebookContainer = gd.closest('#notebook-container');\n",
       "if (notebookContainer) {{\n",
       "    x.observe(notebookContainer, {childList: true});\n",
       "}}\n",
       "\n",
       "// Listen for the clearing of the current output cell\n",
       "var outputEl = gd.closest('.output');\n",
       "if (outputEl) {{\n",
       "    x.observe(outputEl, {childList: true});\n",
       "}}\n",
       "\n",
       "                        })                };                });            </script>        </div>"
      ]
     },
     "metadata": {},
     "output_type": "display_data"
    }
   ],
   "source": [
    "# visualize ingredients using embeddings and PCA on 2D\n",
    "\n",
    "ing_embedding_X = np.array(list(ingredient_embed_dict.values()))\n",
    "# dimentionality reduction using PCA\n",
    "pca = PCA(n_components=2)\n",
    "# running the transformations\n",
    "result = pca.fit_transform(ing_embedding_X)\n",
    "# getting the corresponding ingredient names\n",
    "words = list(ingredient_embed_dict.keys())\n",
    "\n",
    "# creating a dataframe from the results\n",
    "df = pd.DataFrame(result, columns=list('XY'))\n",
    "# adding a columns for the corresponding words\n",
    "df['Ingredients'] = words\n",
    "# converting the lower case text to title case\n",
    "df['Ingredients'] = df['Ingredients'].str.title()\n",
    "\n",
    "# plotting a scatter plot\n",
    "fig = px.scatter(df, x=\"X\", y=\"Y\", text=\"Ingredients\", log_x=False, size_max=60)\n",
    "# adjusting the text position\n",
    "fig.update_traces(textposition='top center')\n",
    "# setting up the height and title\n",
    "fig.update_layout(\n",
    "    height=800,\n",
    "    title_text='Meet Fresh Ingredient Items Embedding Chart'\n",
    ")\n",
    "# displaying the figure\n",
    "fig.show()"
   ]
  },
  {
   "cell_type": "markdown",
   "id": "f9c9ed59-9404-433c-8af1-5cb8358bccab",
   "metadata": {},
   "source": [
    "#### Step 2: Compute customer feature matrix\n",
    "For each customer, we have 1-3 ratings for rated ingredients. Given the ingredient embedding for each ingredient, we compute where each customer lies in the feature space defined by embedding, so that we could create recommendations for ingredients based on similarity measures between customer and ingredient feature vectors."
   ]
  },
  {
   "cell_type": "code",
   "execution_count": null,
   "id": "bcedb4e8-5fc1-4e66-9302-8629e4e73bc2",
   "metadata": {},
   "outputs": [
    {
     "data": {
      "application/vnd.jupyter.widget-view+json": {
       "model_id": "2786451e00a64f3bbd359031e7bf2403",
       "version_major": 2,
       "version_minor": 0
      },
      "text/plain": [
       "Query is running:   0%|          |"
      ]
     },
     "metadata": {},
     "output_type": "display_data"
    },
    {
     "data": {
      "application/vnd.jupyter.widget-view+json": {
       "model_id": "c6a96616f47c4e00b0ef5c23e71665a4",
       "version_major": 2,
       "version_minor": 0
      },
      "text/plain": [
       "Downloading:   0%|          |"
      ]
     },
     "metadata": {},
     "output_type": "display_data"
    }
   ],
   "source": [
    "%%bigquery ratings_orig_df\n",
    "SELECT * FROM `dsxl-ai-advanced-program.meetfresh.ft_customer_ingredient_ratings`"
   ]
  },
  {
   "cell_type": "code",
   "execution_count": null,
   "id": "e76693fc-96e0-42dd-a78b-aeffde0cdf4e",
   "metadata": {},
   "outputs": [
    {
     "name": "stdout",
     "output_type": "stream",
     "text": [
      "<class 'pandas.core.frame.DataFrame'>\n",
      "RangeIndex: 500029 entries, 0 to 500028\n",
      "Data columns (total 4 columns):\n",
      " #   Column            Non-Null Count   Dtype  \n",
      "---  ------            --------------   -----  \n",
      " 0   customer_id       500029 non-null  int64  \n",
      " 1   ingredient_id     500029 non-null  object \n",
      " 2   ingredient_name   500029 non-null  object \n",
      " 3   meetfresh_rating  500029 non-null  float64\n",
      "dtypes: float64(1), int64(1), object(2)\n",
      "memory usage: 15.3+ MB\n"
     ]
    }
   ],
   "source": [
    "ratings_orig_df['customer_id'] = ratings_orig_df['customer_id'].astype(int)\n",
    "ratings_orig_df['meetfresh_rating'] = ratings_orig_df['meetfresh_rating'].astype(float)\n",
    "ratings_orig_df.info()"
   ]
  },
  {
   "cell_type": "code",
   "execution_count": null,
   "id": "506a6487-e62b-45e3-9e07-44fe77e66370",
   "metadata": {},
   "outputs": [],
   "source": [
    "# define some parameters\n",
    "num_users = len(ratings_orig_df['customer_id'].unique())\n",
    "num_ingredients = len(ratings_orig_df['ingredient_id'].unique())\n",
    "num_feats = np.array(ingredient_embedding).shape[1]\n",
    "num_recommendations = 5"
   ]
  },
  {
   "cell_type": "code",
   "execution_count": null,
   "id": "a6294784-203b-498c-a3a8-96693cb467d2",
   "metadata": {},
   "outputs": [],
   "source": [
    "ingredient_id_dict = dict(zip(ingredient_df['ingredient_id'], ingredient_embedding))\n",
    "ingredient_dict = {key: ingredient_id_dict[key] for key in ratings_orig_df['ingredient_id'].unique()}\n",
    "\n",
    "ingredient_name_dict = dict(zip(ingredient_df['ingredient_name'], ingredient_embedding))\n",
    "ingredient_name_dict = {key: ingredient_name_dict[key] for key in ratings_orig_df['ingredient_name'].unique()}"
   ]
  },
  {
   "cell_type": "code",
   "execution_count": null,
   "id": "f540d775-7aaa-44fe-a610-5cf279bbfe35",
   "metadata": {},
   "outputs": [
    {
     "name": "stdout",
     "output_type": "stream",
     "text": [
      "customer_ingredients type is: <class 'tensorflow.python.framework.ops.EagerTensor'> \n",
      " ingredient_feats type is: <class 'tensorflow.python.framework.ops.EagerTensor'>\n"
     ]
    }
   ],
   "source": [
    "# create matrices for customer-ingredient ratings (customer_ingredients)\n",
    "# and ingredient embedding features (ingredient_feats)\n",
    "\n",
    "df = ratings_orig_df[['customer_id','ingredient_id','meetfresh_rating']]\n",
    "customer_ingredients_df = df.pivot_table(values='meetfresh_rating', index=['customer_id'],\n",
    "                                         columns='ingredient_id', aggfunc='mean', fill_value=0)\n",
    "ingredient_feats_df = pd.DataFrame.from_dict(ingredient_dict, orient='index')\n",
    "\n",
    "# turn them into tensorflow objects\n",
    "customer_ingredients = tf.constant(customer_ingredients_df, dtype = tf.float64)\n",
    "ingredient_feats = tf.constant(ingredient_feats_df, dtype = tf.float64)\n",
    "print(f'customer_ingredients type is: {type(customer_ingredients)}', '\\n',\n",
    "      f'ingredient_feats type is: {type(ingredient_feats)}')"
   ]
  },
  {
   "cell_type": "code",
   "execution_count": null,
   "id": "066bada4-d96b-432b-82fa-75dc1655deac",
   "metadata": {},
   "outputs": [
    {
     "data": {
      "text/plain": [
       "<tf.Tensor: shape=(155594, 20), dtype=float64, numpy=\n",
       "array([[ 0.19157845,  0.13355521,  0.0515675 , ...,  0.06936497,\n",
       "         0.10179576,  0.11069742],\n",
       "       [ 0.20189644,  0.13719917,  0.06226509, ...,  0.04279025,\n",
       "         0.12042201,  0.0996008 ],\n",
       "       [ 0.12214676,  0.10903437, -0.0204186 , ...,  0.24819126,\n",
       "        -0.02354382,  0.18536872],\n",
       "       ...,\n",
       "       [ 0.26605223,  0.15985674,  0.12878119, ..., -0.12244757,\n",
       "         0.23623741,  0.03060354],\n",
       "       [-0.05668348,  0.06589641,  0.01149882, ...,  0.07839543,\n",
       "        -0.01234555,  0.07853536],\n",
       "       [ 0.08293656,  0.00124234,  0.07462839, ..., -0.07067721,\n",
       "         0.04725368,  0.0355153 ]])>"
      ]
     },
     "execution_count": 122,
     "metadata": {},
     "output_type": "execute_result"
    }
   ],
   "source": [
    "# next compute customer feature matrix using the two matrices defined above\n",
    "# for each customer feature vector, normalize it to sum to 1\n",
    "users_feats = tf.matmul(customer_ingredients, ingredient_feats)\n",
    "users_feats = users_feats / tf.reduce_sum(users_feats, axis=1, keepdims=True)\n",
    "users_feats"
   ]
  },
  {
   "cell_type": "markdown",
   "id": "752c586c-a224-4884-a3b2-83ddef18a107",
   "metadata": {},
   "source": [
    "#### Step 3: Determine ingredient recommendations\n",
    "Now we use user_feats tensor computed above to determine movie ratings and recommendations for customers.\n",
    "\n",
    "To compute the projected ratings for each ingredient, we compute the similarity measure between the customer's feature vector and the corresponding ingredient feature vector. We use the dot product as our similarity measure. In essence, this is a weighted average rating for each customer"
   ]
  },
  {
   "cell_type": "code",
   "execution_count": null,
   "id": "b6f1c8ce-14e2-405a-a52e-efc80d01e3ad",
   "metadata": {},
   "outputs": [
    {
     "data": {
      "text/plain": [
       "<tf.Tensor: shape=(155594, 22), dtype=float64, numpy=\n",
       "array([[ 0.19971243,  0.27220238,  0.80391332, ...,  0.18404335,\n",
       "        -0.3634402 , -0.04446207],\n",
       "       [ 0.16868542,  0.17951091,  0.67691383, ...,  0.15253601,\n",
       "        -0.39069014, -0.03173766],\n",
       "       [ 0.40849901,  0.89594079,  1.65851682, ...,  0.39606219,\n",
       "        -0.18007017, -0.13008703],\n",
       "       ...,\n",
       "       [-0.02423609, -0.39683149, -0.11275092, ..., -0.04337215,\n",
       "        -0.56012643,  0.04738091],\n",
       "       [ 0.11257758,  0.34900497,  0.60276083, ...,  0.21354277,\n",
       "        -0.26856205,  0.2178404 ],\n",
       "       [-0.15070836,  0.04843425,  0.02654409, ...,  0.06600078,\n",
       "        -0.04000029,  0.29530651]])>"
      ]
     },
     "execution_count": 123,
     "metadata": {},
     "output_type": "execute_result"
    }
   ],
   "source": [
    "predicted_ratings = tf.matmul(users_feats, tf.transpose(ingredient_feats))\n",
    "predicted_ratings"
   ]
  },
  {
   "cell_type": "code",
   "execution_count": null,
   "id": "178cfb51-b322-417d-a2a2-d83266544866",
   "metadata": {},
   "outputs": [
    {
     "data": {
      "text/plain": [
       "<tf.Tensor: shape=(155594, 22), dtype=float64, numpy=\n",
       "array([[ 0.19971243,  0.27220238,  0.        , ...,  0.18404335,\n",
       "        -0.3634402 , -0.04446207],\n",
       "       [ 0.16868542,  0.17951091,  0.        , ...,  0.15253601,\n",
       "        -0.39069014, -0.03173766],\n",
       "       [ 0.40849901,  0.89594079,  0.        , ...,  0.39606219,\n",
       "        -0.18007017, -0.13008703],\n",
       "       ...,\n",
       "       [-0.02423609, -0.39683149, -0.11275092, ..., -0.04337215,\n",
       "        -0.56012643,  0.04738091],\n",
       "       [ 0.11257758,  0.34900497,  0.        , ...,  0.21354277,\n",
       "        -0.26856205,  0.2178404 ],\n",
       "       [-0.15070836,  0.04843425,  0.02654409, ...,  0.06600078,\n",
       "        -0.04000029,  0.29530651]])>"
      ]
     },
     "execution_count": 125,
     "metadata": {},
     "output_type": "execute_result"
    }
   ],
   "source": [
    "# since we do not want to recommend ingredients already rated, mask the rated ingredients for each customer\n",
    "customer_unrated_ingredients = tf.equal(customer_ingredients, tf.zeros_like(customer_ingredients))\n",
    "ignore_matrix = tf.zeros_like(tf.cast(customer_ingredients, tf.float64))\n",
    "\n",
    "predicted_ratings_new = tf.where(\n",
    "    customer_unrated_ingredients,\n",
    "    predicted_ratings,\n",
    "    ignore_matrix)\n",
    "\n",
    "predicted_ratings_new"
   ]
  },
  {
   "cell_type": "code",
   "execution_count": null,
   "id": "f1b8aa5f-b57c-4661-b70c-01ab43e566cd",
   "metadata": {},
   "outputs": [
    {
     "data": {
      "text/plain": [
       "<tf.Tensor: shape=(155594, 5), dtype=int32, numpy=\n",
       "array([[ 8, 13, 16, 12,  1],\n",
       "       [ 8, 13, 16, 12, 17],\n",
       "       [ 8,  1, 12,  7, 17],\n",
       "       ...,\n",
       "       [16, 13,  8,  6, 21],\n",
       "       [12,  8, 17,  1, 16],\n",
       "       [12, 11, 13, 21, 14]], dtype=int32)>"
      ]
     },
     "execution_count": 147,
     "metadata": {},
     "output_type": "execute_result"
    }
   ],
   "source": [
    "# finally for each customer, we grab the top num_recommendations recommended ingredients index\n",
    "top_ingredients = tf.nn.top_k(predicted_ratings_new, num_recommendations)[1]\n",
    "top_ingredients"
   ]
  },
  {
   "cell_type": "code",
   "execution_count": null,
   "id": "d110ed25-74e4-4eea-86d4-05244ba2d189",
   "metadata": {},
   "outputs": [
    {
     "name": "stdout",
     "output_type": "stream",
     "text": [
      "customer_id 1: ['Q Mochi', 'Melon Jelly', 'Rice Balls', 'Grass Jelly', 'Mini Q (Mini Taro Ball)']\n",
      "customer_id 2: ['Q Mochi', 'Melon Jelly', 'Rice Balls', 'Grass Jelly', 'Tofu Pudding']\n",
      "customer_id 4: ['Q Mochi', 'Mini Q (Mini Taro Ball)', 'Grass Jelly', 'Ice Cream', 'Tofu Pudding']\n",
      "customer_id 5: ['Q Mochi', 'Mini Q (Mini Taro Ball)', 'Grass Jelly', 'Melon Jelly', 'Tofu Pudding']\n",
      "customer_id 6: ['Rice Balls', 'Melon Jelly', 'Q Mochi', 'Almond Pudding', 'Coco Sago']\n",
      "customer_id 7: ['Rice Balls', 'Melon Jelly', 'Grass Jelly', 'Tofu Pudding', 'Coco Sago']\n",
      "customer_id 8: ['Boba', 'Black Sugar Boba', 'Mini Q (Mini Taro Ball)', 'Peanuts', 'Coco Mochi']\n",
      "customer_id 9: ['Tofu Pudding', 'Coco Sago', 'Rice Balls', 'Black Sugar Boba', 'Almond Flakes']\n",
      "customer_id 10: ['Grass Jelly', 'Tofu Pudding', 'Coco Sago', 'Peanuts', 'Rice Balls']\n",
      "customer_id 11: ['Grass Jelly', 'Rice Balls', 'Peanuts', 'Coco Sago', 'Ice Cream']\n"
     ]
    }
   ],
   "source": [
    "# to see recommended ingredient names for the first 10 customers\n",
    "customer_list = customer_ingredients_df.reset_index()['customer_id']\n",
    "\n",
    "for i in range(10):\n",
    "    ingredient_names = [list(ingredient_df['ingredient_name'])[index] for index in top_ingredients[i]]\n",
    "    print('customer_id {}: {}'.format(customer_list[i], ingredient_names))"
   ]
  },
  {
   "cell_type": "code",
   "execution_count": null,
   "id": "c8653ff1-7611-4d1b-9c8b-4a88cfac5250",
   "metadata": {},
   "outputs": [],
   "source": []
  }
 ],
 "metadata": {
  "kernelspec": {
   "display_name": "TensorFlow 2 (Local)",
   "language": "python",
   "name": "local-tf2"
  },
  "language_info": {
   "codemirror_mode": {
    "name": "ipython",
    "version": 3
   },
   "file_extension": ".py",
   "mimetype": "text/x-python",
   "name": "python",
   "nbconvert_exporter": "python",
   "pygments_lexer": "ipython3",
   "version": "3.7.12"
  }
 },
 "nbformat": 4,
 "nbformat_minor": 5
}
